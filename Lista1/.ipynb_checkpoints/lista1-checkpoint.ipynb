{
 "cells": [
  {
   "cell_type": "markdown",
   "metadata": {
    "colab_type": "text",
    "id": "view-in-github"
   },
   "source": [
    "<a href=\"https://colab.research.google.com/github/janchorowski/ml_uwr/blob/fall2020/assignment1/Assignment1.ipynb\" target=\"_parent\"><img src=\"https://colab.research.google.com/assets/colab-badge.svg\" alt=\"Open In Colab\"/></a>"
   ]
  },
  {
   "cell_type": "markdown",
   "metadata": {
    "id": "P7IFJ5_Y33-8"
   },
   "source": [
    "# Lab Assignment 1\n",
    "\n",
    "## Tasks:\n",
    "| task name| subtasks | points | finished | notes |\n",
    "|---|---|---|---|---|\n",
    "| numpy warmup | ~~variables~~ <br> ~~vectors~~ <br> ~~matricies~~ <br> ~~multiplication table~~  <br> element wise sth sth <br> ~~matrix/vector operations~~<br> ~~is magic~~ | 2 | \tno |  |\n",
    "| pandas and seaborn | ~~load iris data~~ <br> ~~show summary~~ <br> ~~pairplot~~ <br> ~~long data format~~ <br> ~~box plot~~ | 2 | YES | remove the mentally handicapped <br> column swapping |\n",
    "| implement k-NN |  | 1 | YES | replace with fast implementation |\n",
    "| k-NN decision boundary |  | 1 | YES | consider changing params for contourf |\n",
    "| k-NN performance estimation |   | 1 | YES |  |\n",
    "| k-NN leave out |   | 2 | no |  |\n",
    "| k-NN on MNIST |   | 2 | YES |  |\n"
   ]
  },
  {
   "cell_type": "markdown",
   "metadata": {
    "id": "-3FKET1A2GRK"
   },
   "source": [
    "## **Submission deadline:**\n",
    "* **Regular problems: last lab session before Friday 16.10.2020**\n",
    "* **Bonus problems: deadline for Lab Assignment 2**\n",
    "\n",
    "**Points: 11 + 3 bonus points**"
   ]
  },
  {
   "cell_type": "code",
   "execution_count": 1,
   "metadata": {
    "id": "onui8xrw5dKi"
   },
   "outputs": [
    {
     "name": "stdout",
     "output_type": "stream",
     "text": [
      "\u001b[33mWARNING: You are using pip version 20.0.2; however, version 20.2.3 is available.\r\n",
      "You should consider upgrading via the '/home/zbigniew/Devel/UWR/ML2020/MLvirtualenv/bin/python -m pip install --upgrade pip' command.\u001b[0m\r\n"
     ]
    }
   ],
   "source": [
    "# Please note that this code needs only to be run in a fresh runtime.\n",
    "# However, it can be rerun afterwards too.\n",
    "!pip install -q gdown httpimport\n",
    "![ -e mnist.npz ] || gdown 'https://drive.google.com/uc?id=1QPaC3IKB_5tX6yIZgRgkpcqFrfVqPTXU' -O mnist.npz"
   ]
  },
  {
   "cell_type": "code",
   "execution_count": 2,
   "metadata": {
    "id": "YxzWq6iO2KPm"
   },
   "outputs": [],
   "source": [
    "# Standard IPython notebook imports\n",
    "%matplotlib inline\n",
    "\n",
    "import os\n",
    "\n",
    "import httpimport\n",
    "import matplotlib.pyplot as plt\n",
    "import numpy as np\n",
    "import pandas as pd\n",
    "from tqdm.auto import tqdm\n",
    "import scipy.stats as sstats\n",
    "import math\n",
    "\n",
    "import seaborn as sns\n",
    "from sklearn import datasets\n",
    "\n",
    "# In this way we can import functions straight from github\n",
    "with httpimport.github_repo('janchorowski', 'nn_assignments', \n",
    "                            module='common', branch='nn18'):\n",
    "     from common.plotting import plot_mat\n",
    "\n",
    "sns.set_style('whitegrid')\n",
    "\n",
    "# crap for interactive sliders\n",
    "from __future__ import print_function\n",
    "from ipywidgets import interact, interactive, fixed, interact_manual\n",
    "import ipywidgets as widgets\n"
   ]
  },
  {
   "cell_type": "markdown",
   "metadata": {
    "id": "3hr81V8T8ccB"
   },
   "source": [
    "## Problems"
   ]
  },
  {
   "cell_type": "markdown",
   "metadata": {
    "id": "AsOC0voR33_F"
   },
   "source": [
    "### Problem 1: NumPy [2p]\n",
    "\n",
    "First, get familiar with Python at https://docs.python.org/3/tutorial/. Then, get\n",
    "to know the capabilities of NumPy, the prime numerical library of Python http://www.numpy.org/, for instance with the tutorial at https://numpy.org/doc/stable/user/quickstart.html. Finally, look into Pandas at https://pandas.pydata.org/pandas-docs/stable/getting_started/tutorials.html.\n",
    "\n",
    "You might also need:\n",
    "  1. another intro to NumPy,\n",
    "http://people.duke.edu/~ccc14/pcfb/numerics.html\n",
    "  2. a better interactive shell for Python\n",
    "http://ipython.org/\n",
    "  3. a plotting library for Python\n",
    "http://matplotlib.org/\n",
    "  4. nice statistical plots for matplotlib https://seaborn.pydata.org/."
   ]
  },
  {
   "cell_type": "markdown",
   "metadata": {
    "id": "2ijCVw7reGbm"
   },
   "source": [
    "\n",
    "**a) Declare variables:**\n",
    "1. $a=10$,\n",
    "2. $b=2.5\\times 10^{23}$,\n",
    "3. $c=2+3i$, where $i$ is an imaginary unit,\n",
    "4. $d=e^{i2\\pi/3}$, where $i$ is an imaginary unit, $e$ is the Euler's number (use `exp`, `pi`)."
   ]
  },
  {
   "cell_type": "code",
   "execution_count": 3,
   "metadata": {
    "id": "8sd7jJhd33_G"
   },
   "outputs": [],
   "source": [
    "import cmath\n",
    "\n",
    "a = 10\n",
    "b = 2.5E25\n",
    "c = 2+3j\n",
    "d = cmath.exp((1j * 2 * cmath.pi)/3.0)"
   ]
  },
  {
   "cell_type": "markdown",
   "metadata": {
    "id": "bP0hAHvN33_K"
   },
   "source": [
    "**b) Declare vectors:**\n",
    "1. $aVec=\\begin{bmatrix} 3.14 & 15 & 9 & 26 \\end{bmatrix}$,\n",
    "2. $bVec=\\begin{bmatrix} 5 & 4.8 & \\cdots & -4.8 & -5 \\end{bmatrix}$ (vector of numbers from $5$ to $-5$ decreasing by $0.2$),\n",
    "3. $cVec=\\begin{bmatrix} 10^0 & 10^{0.01} & \\cdots & 10^{0.99} & 10^1 \\end{bmatrix}$ (logarithmically spaced numbers from 1 to 10, use `logspace` and make sure, that the result has correct length!),\n",
    "4. $dVec=Hello$ ($eVec$ is a string of characters, thus a vector)."
   ]
  },
  {
   "cell_type": "code",
   "execution_count": 4,
   "metadata": {
    "id": "37RmkuW533_L"
   },
   "outputs": [],
   "source": [
    "aVec = np.array([3.14, 15, 9, 26])\n",
    "\n",
    "bVec = np.linspace(\n",
    "    start = 5.0, \n",
    "    stop = -5.0,\n",
    "    num = 51,\n",
    ")\n",
    "\n",
    "cVec = np.logspace(\n",
    "    start = 1,\n",
    "    stop = 10,\n",
    "    num = 101,\n",
    "    base = 10.0\n",
    ")\n",
    "\n",
    "dVec = np.array(\"Hello\")"
   ]
  },
  {
   "cell_type": "markdown",
   "metadata": {
    "id": "C58YJtEU33_O"
   },
   "source": [
    "**c) Declare matrices:**\n",
    "1. \\begin{equation}aMat=\\begin{bmatrix}\n",
    "                    2      & \\cdots & 2 \\\\\n",
    "                    \\vdots & \\ddots & \\vdots \\\\\n",
    "                    2      & \\cdots & 2\n",
    "          \\end{bmatrix},\\end{equation}\n",
    "    matrix $9\\times 9$ filled with 2s (use `ones` or `zeros`),\n",
    "2. \\begin{equation}bMat=\\begin{bmatrix}\n",
    "                    1      & 0      & \\cdots &        & 0      \\\\\n",
    "                    0      & \\ddots & 0      &        & 0      \\\\\n",
    "                    \\vdots & 0      & 5      & 0      & \\vdots \\\\\n",
    "                           &        & 0      & \\ddots & 0      \\\\\n",
    "                    0      &        & \\cdots & 0      & 1\n",
    "                \\end{bmatrix},\\end{equation}\n",
    "    matrix $9\\times 9$ filled with zeros, with\n",
    "    $[ 1, 2, 3, 4, 5, 4, 3, 2, 1]$ on its diagonal (use `zeros`, `diag`),\n",
    "3. \\begin{equation}cMat=\\begin{bmatrix}\n",
    "                    1      & 11     & \\cdots & 91     \\\\\n",
    "                    2      & 12     & \\cdots & 92     \\\\\n",
    "                    \\vdots & \\vdots & \\ddots & \\vdots \\\\\n",
    "                    10     & 20     & \\cdots & 100\n",
    "                \\end{bmatrix},\\end{equation}\n",
    "    matrix $10\\times 10$, columns of which form the vector $1:100$ (use `reshape`),\n",
    "4. \\begin{equation}dMat=\\begin{bmatrix}\n",
    "                    NaN & NaN & NaN & NaN \\\\\n",
    "                    NaN & NaN & NaN & NaN \\\\\n",
    "                    NaN & NaN & NaN & NaN\n",
    "                \\end{bmatrix},\\end{equation}\n",
    "    matrix $3\\times 4$ filled with `NaN`s (use... `NaN`),\n",
    "5. \\begin{equation}eMat=\\begin{bmatrix}\n",
    "                    13  & -1  & 5  \\\\\n",
    "                    -22 & 10  & -87\n",
    "                \\end{bmatrix},\\end{equation}\n",
    "6. $fMat$ of shape $3\\times 3$ filled with random natural numbers from $[-3,3]$ (use `rand` and `floor` or `ceil`)."
   ]
  },
  {
   "cell_type": "code",
   "execution_count": 5,
   "metadata": {
    "id": "Bdd1oUeI33_P"
   },
   "outputs": [],
   "source": [
    "aMat = 2.0*np.ones((9, 9))\n",
    "bMat = np.zeros((9, 9)) + np.diag(np.array([1, 2, 3, 4, 5, 4, 3, 2, 1]))\n",
    "\n",
    "# is it possible to generate this in place without transposing?\n",
    "cMat = np.transpose(np.linspace(1, 100, 100).reshape((10, 10)))\n",
    "\n",
    "dMat = np.ones((3, 4)) * np.nan\n",
    "\n",
    "eMat = np.array([[13, -1, 5], [-22, 10, -87]])\n",
    "\n",
    "import random\n",
    "fMat = np.array([math.floor(random.random()*7.0 - 3) for _ in range(9)]).reshape((3, 3))"
   ]
  },
  {
   "cell_type": "markdown",
   "metadata": {
    "id": "DqtKQi1Q33_T"
   },
   "source": [
    "**d) Declare a multiplication table**\n",
    "as a $10\\times 10$ matrix `mulMat`. Use matrix/vector multiplication."
   ]
  },
  {
   "cell_type": "code",
   "execution_count": 6,
   "metadata": {
    "id": "OWqHq-vK33_U"
   },
   "outputs": [],
   "source": [
    "v1 = np.linspace(1, 10, 10)\n",
    "v2 = np.linspace(1, 10, 10).reshape((10, 1))\n",
    "\n",
    "mulMat = v2 * v1 "
   ]
  },
  {
   "cell_type": "markdown",
   "metadata": {
    "id": "0xIm6lT133_Y"
   },
   "source": [
    "**e) Compute element-wise using values from b).**\n",
    "\n",
    "For instance, the first element of $xVec[0]$ should be equal to\n",
    "\n",
    "\\begin{equation}\n",
    "1/(\\sqrt{2\\pi2.5^2}) e^{-cVec[0]^2 / (2\\cdot\\pi 2.5^2)}.\n",
    "\\end{equation}\n",
    "\n",
    "1. $xVec=1/(\\sqrt{2\\pi2.5^2}) e^{-cVec^2 / (2\\cdot\\pi 2.5^2)}$\n",
    "2. $yVec=\\log_{10}(1/cVec)$, using `log10`"
   ]
  },
  {
   "cell_type": "code",
   "execution_count": 7,
   "metadata": {
    "id": "LtH-kSU733_Z"
   },
   "outputs": [
    {
     "ename": "ZeroDivisionError",
     "evalue": "float division by zero",
     "output_type": "error",
     "traceback": [
      "\u001b[0;31m---------------------------------------------------------------------------\u001b[0m",
      "\u001b[0;31mZeroDivisionError\u001b[0m                         Traceback (most recent call last)",
      "\u001b[0;32m<ipython-input-7-88872317d8d0>\u001b[0m in \u001b[0;36m<module>\u001b[0;34m\u001b[0m\n\u001b[0;32m----> 1\u001b[0;31m \u001b[0mxVec\u001b[0m \u001b[0;34m=\u001b[0m \u001b[0mnp\u001b[0m\u001b[0;34m.\u001b[0m\u001b[0marray\u001b[0m\u001b[0;34m(\u001b[0m\u001b[0;34m[\u001b[0m\u001b[0;36m1.0\u001b[0m\u001b[0;34m/\u001b[0m\u001b[0;34m(\u001b[0m\u001b[0mmath\u001b[0m\u001b[0;34m.\u001b[0m\u001b[0msqrt\u001b[0m\u001b[0;34m(\u001b[0m\u001b[0;36m2\u001b[0m \u001b[0;34m*\u001b[0m \u001b[0mmath\u001b[0m\u001b[0;34m.\u001b[0m\u001b[0mpi\u001b[0m \u001b[0;34m*\u001b[0m \u001b[0;36m2.5\u001b[0m\u001b[0;34m**\u001b[0m\u001b[0;36m2.0\u001b[0m\u001b[0;34m)\u001b[0m \u001b[0;34m*\u001b[0m \u001b[0mmath\u001b[0m\u001b[0;34m.\u001b[0m\u001b[0mexp\u001b[0m\u001b[0;34m(\u001b[0m\u001b[0;34m-\u001b[0m\u001b[0;34m(\u001b[0m\u001b[0mv\u001b[0m\u001b[0;34m**\u001b[0m\u001b[0;36m2.0\u001b[0m\u001b[0;34m)\u001b[0m\u001b[0;34m/\u001b[0m\u001b[0;34m(\u001b[0m\u001b[0;36m2\u001b[0m \u001b[0;34m*\u001b[0m \u001b[0mmath\u001b[0m\u001b[0;34m.\u001b[0m\u001b[0mpi\u001b[0m \u001b[0;34m*\u001b[0m \u001b[0;36m2.5\u001b[0m \u001b[0;34m**\u001b[0m \u001b[0;36m2.0\u001b[0m\u001b[0;34m)\u001b[0m\u001b[0;34m)\u001b[0m\u001b[0;34m)\u001b[0m \u001b[0;32mfor\u001b[0m \u001b[0mv\u001b[0m \u001b[0;32min\u001b[0m \u001b[0mcVec\u001b[0m\u001b[0;34m]\u001b[0m\u001b[0;34m)\u001b[0m\u001b[0;34m\u001b[0m\u001b[0;34m\u001b[0m\u001b[0m\n\u001b[0m\u001b[1;32m      2\u001b[0m \u001b[0mprint\u001b[0m\u001b[0;34m(\u001b[0m\u001b[0mxVec\u001b[0m\u001b[0;34m)\u001b[0m\u001b[0;34m\u001b[0m\u001b[0;34m\u001b[0m\u001b[0m\n\u001b[1;32m      3\u001b[0m \u001b[0;31m#yVec =\u001b[0m\u001b[0;34m\u001b[0m\u001b[0;34m\u001b[0m\u001b[0;34m\u001b[0m\u001b[0m\n",
      "\u001b[0;32m<ipython-input-7-88872317d8d0>\u001b[0m in \u001b[0;36m<listcomp>\u001b[0;34m(.0)\u001b[0m\n\u001b[0;32m----> 1\u001b[0;31m \u001b[0mxVec\u001b[0m \u001b[0;34m=\u001b[0m \u001b[0mnp\u001b[0m\u001b[0;34m.\u001b[0m\u001b[0marray\u001b[0m\u001b[0;34m(\u001b[0m\u001b[0;34m[\u001b[0m\u001b[0;36m1.0\u001b[0m\u001b[0;34m/\u001b[0m\u001b[0;34m(\u001b[0m\u001b[0mmath\u001b[0m\u001b[0;34m.\u001b[0m\u001b[0msqrt\u001b[0m\u001b[0;34m(\u001b[0m\u001b[0;36m2\u001b[0m \u001b[0;34m*\u001b[0m \u001b[0mmath\u001b[0m\u001b[0;34m.\u001b[0m\u001b[0mpi\u001b[0m \u001b[0;34m*\u001b[0m \u001b[0;36m2.5\u001b[0m\u001b[0;34m**\u001b[0m\u001b[0;36m2.0\u001b[0m\u001b[0;34m)\u001b[0m \u001b[0;34m*\u001b[0m \u001b[0mmath\u001b[0m\u001b[0;34m.\u001b[0m\u001b[0mexp\u001b[0m\u001b[0;34m(\u001b[0m\u001b[0;34m-\u001b[0m\u001b[0;34m(\u001b[0m\u001b[0mv\u001b[0m\u001b[0;34m**\u001b[0m\u001b[0;36m2.0\u001b[0m\u001b[0;34m)\u001b[0m\u001b[0;34m/\u001b[0m\u001b[0;34m(\u001b[0m\u001b[0;36m2\u001b[0m \u001b[0;34m*\u001b[0m \u001b[0mmath\u001b[0m\u001b[0;34m.\u001b[0m\u001b[0mpi\u001b[0m \u001b[0;34m*\u001b[0m \u001b[0;36m2.5\u001b[0m \u001b[0;34m**\u001b[0m \u001b[0;36m2.0\u001b[0m\u001b[0;34m)\u001b[0m\u001b[0;34m)\u001b[0m\u001b[0;34m)\u001b[0m \u001b[0;32mfor\u001b[0m \u001b[0mv\u001b[0m \u001b[0;32min\u001b[0m \u001b[0mcVec\u001b[0m\u001b[0;34m]\u001b[0m\u001b[0;34m)\u001b[0m\u001b[0;34m\u001b[0m\u001b[0;34m\u001b[0m\u001b[0m\n\u001b[0m\u001b[1;32m      2\u001b[0m \u001b[0mprint\u001b[0m\u001b[0;34m(\u001b[0m\u001b[0mxVec\u001b[0m\u001b[0;34m)\u001b[0m\u001b[0;34m\u001b[0m\u001b[0;34m\u001b[0m\u001b[0m\n\u001b[1;32m      3\u001b[0m \u001b[0;31m#yVec =\u001b[0m\u001b[0;34m\u001b[0m\u001b[0;34m\u001b[0m\u001b[0;34m\u001b[0m\u001b[0m\n",
      "\u001b[0;31mZeroDivisionError\u001b[0m: float division by zero"
     ]
    }
   ],
   "source": [
    "xVec = np.array([1.0/(math.sqrt(2 * math.pi * 2.5**2.0) * math.exp(-(v**2.0)/(2 * math.pi * 2.5 ** 2.0))) for v in cVec])\n",
    "print(xVec)\n",
    "#yVec = "
   ]
  },
  {
   "cell_type": "markdown",
   "metadata": {
    "id": "EBhf74F_33_d"
   },
   "source": [
    "**f) Compute with matrix/vector operations.**\n",
    "\n",
    "**NOTE:** Every multiplication (and power) in this subtask is a [matrix multiplication](https://en.wikipedia.org/wiki/Matrix_multiplication).\n",
    "1. $xMat=[0,  1, ..., 6][0, 10, 20, ..., 60]^T$,\n",
    "2. $yMat=[0, 10, 20, ..., 60]^T[0,  1, ..., 6]$\n",
    "<br/>\n",
    "(remember, that matrix multiplication is not commutative)."
   ]
  },
  {
   "cell_type": "code",
   "execution_count": 9,
   "metadata": {
    "id": "UjdLR34u33_e"
   },
   "outputs": [
    {
     "name": "stdout",
     "output_type": "stream",
     "text": [
      "[  0.  10.  40.  90. 160. 250. 360.] [  0.  10.  40.  90. 160. 250. 360.]\n"
     ]
    }
   ],
   "source": [
    "xMat = np.linspace(0, 6, 7) * np.transpose(np.linspace(0, 60, 7))\n",
    "yMat = np.transpose(np.linspace(0, 60, 7)) * np.linspace(0, 6, 7)\n",
    "\n",
    "print(xMat, yMat)"
   ]
  },
  {
   "cell_type": "markdown",
   "metadata": {
    "id": "QJ3xTXgV33_i"
   },
   "source": [
    "**g) Declare `ismagic(A)` function** \n",
    "which checks if matrix $A$ is a [magic square](https://en.wikipedia.org/wiki/Magic_square) and returns a boolean."
   ]
  },
  {
   "cell_type": "code",
   "execution_count": 10,
   "metadata": {
    "id": "uCNJUx_G33_j"
   },
   "outputs": [],
   "source": [
    "def ismagic(A):\n",
    "    assert len(A) == len(A[0])\n",
    "    \n",
    "    expected = sum(A[0])\n",
    "\n",
    "    for r in A:\n",
    "        if sum(r) != expected:\n",
    "            return False\n",
    "    \n",
    "    for c in np.transpose(A):\n",
    "        if sum(c) != expected:\n",
    "            return False\n",
    "    \n",
    "    if sum(np.diag(A)) != expected:\n",
    "        return False\n",
    "    \n",
    "    if sum(np.diag(np.transpose(A))) != expected:\n",
    "        return False\n",
    "    \n",
    "    return True\n",
    "    \n",
    "    \n",
    "assert not ismagic(np.array([[1,1], [2,2]]))\n",
    "assert ismagic(np.array([[2,7,6],[9,5,1],[4,3,8]]))"
   ]
  },
  {
   "cell_type": "markdown",
   "metadata": {
    "id": "kl8_nizPeiNy"
   },
   "source": [
    "### Problem 2: Pandas and Seaborn [2p]\n",
    "\n",
    "1. Load the IRIS Data into a `DataFrame`"
   ]
  },
  {
   "cell_type": "code",
   "execution_count": 11,
   "metadata": {
    "colab": {
     "base_uri": "https://localhost:8080/",
     "height": 359
    },
    "id": "FzhoE5MWerAf",
    "outputId": "079d4d13-ffca-4f53-b45b-5139c7e21476"
   },
   "outputs": [
    {
     "data": {
      "text/html": [
       "<div>\n",
       "<style scoped>\n",
       "    .dataframe tbody tr th:only-of-type {\n",
       "        vertical-align: middle;\n",
       "    }\n",
       "\n",
       "    .dataframe tbody tr th {\n",
       "        vertical-align: top;\n",
       "    }\n",
       "\n",
       "    .dataframe thead th {\n",
       "        text-align: right;\n",
       "    }\n",
       "</style>\n",
       "<table border=\"1\" class=\"dataframe\">\n",
       "  <thead>\n",
       "    <tr style=\"text-align: right;\">\n",
       "      <th></th>\n",
       "      <th>sepal_length</th>\n",
       "      <th>sepal_width</th>\n",
       "      <th>petal_length</th>\n",
       "      <th>petal_width</th>\n",
       "      <th>target</th>\n",
       "    </tr>\n",
       "  </thead>\n",
       "  <tbody>\n",
       "    <tr>\n",
       "      <th>0</th>\n",
       "      <td>5.1</td>\n",
       "      <td>3.5</td>\n",
       "      <td>1.4</td>\n",
       "      <td>0.2</td>\n",
       "      <td>Iris-setosa</td>\n",
       "    </tr>\n",
       "    <tr>\n",
       "      <th>1</th>\n",
       "      <td>4.9</td>\n",
       "      <td>3.0</td>\n",
       "      <td>1.4</td>\n",
       "      <td>0.2</td>\n",
       "      <td>Iris-setosa</td>\n",
       "    </tr>\n",
       "    <tr>\n",
       "      <th>2</th>\n",
       "      <td>4.7</td>\n",
       "      <td>3.2</td>\n",
       "      <td>1.3</td>\n",
       "      <td>0.2</td>\n",
       "      <td>Iris-setosa</td>\n",
       "    </tr>\n",
       "    <tr>\n",
       "      <th>3</th>\n",
       "      <td>4.6</td>\n",
       "      <td>3.1</td>\n",
       "      <td>1.5</td>\n",
       "      <td>0.2</td>\n",
       "      <td>Iris-setosa</td>\n",
       "    </tr>\n",
       "    <tr>\n",
       "      <th>4</th>\n",
       "      <td>5.0</td>\n",
       "      <td>3.6</td>\n",
       "      <td>1.4</td>\n",
       "      <td>0.2</td>\n",
       "      <td>Iris-setosa</td>\n",
       "    </tr>\n",
       "    <tr>\n",
       "      <th>5</th>\n",
       "      <td>5.4</td>\n",
       "      <td>3.9</td>\n",
       "      <td>1.7</td>\n",
       "      <td>0.4</td>\n",
       "      <td>Iris-setosa</td>\n",
       "    </tr>\n",
       "    <tr>\n",
       "      <th>6</th>\n",
       "      <td>4.6</td>\n",
       "      <td>3.4</td>\n",
       "      <td>1.4</td>\n",
       "      <td>0.3</td>\n",
       "      <td>Iris-setosa</td>\n",
       "    </tr>\n",
       "    <tr>\n",
       "      <th>7</th>\n",
       "      <td>5.0</td>\n",
       "      <td>3.4</td>\n",
       "      <td>1.5</td>\n",
       "      <td>0.2</td>\n",
       "      <td>Iris-setosa</td>\n",
       "    </tr>\n",
       "    <tr>\n",
       "      <th>8</th>\n",
       "      <td>4.4</td>\n",
       "      <td>2.9</td>\n",
       "      <td>1.4</td>\n",
       "      <td>0.2</td>\n",
       "      <td>Iris-setosa</td>\n",
       "    </tr>\n",
       "    <tr>\n",
       "      <th>9</th>\n",
       "      <td>4.9</td>\n",
       "      <td>3.1</td>\n",
       "      <td>1.5</td>\n",
       "      <td>0.1</td>\n",
       "      <td>Iris-setosa</td>\n",
       "    </tr>\n",
       "  </tbody>\n",
       "</table>\n",
       "</div>"
      ],
      "text/plain": [
       "   sepal_length  sepal_width  petal_length  petal_width       target\n",
       "0           5.1          3.5           1.4          0.2  Iris-setosa\n",
       "1           4.9          3.0           1.4          0.2  Iris-setosa\n",
       "2           4.7          3.2           1.3          0.2  Iris-setosa\n",
       "3           4.6          3.1           1.5          0.2  Iris-setosa\n",
       "4           5.0          3.6           1.4          0.2  Iris-setosa\n",
       "5           5.4          3.9           1.7          0.4  Iris-setosa\n",
       "6           4.6          3.4           1.4          0.3  Iris-setosa\n",
       "7           5.0          3.4           1.5          0.2  Iris-setosa\n",
       "8           4.4          2.9           1.4          0.2  Iris-setosa\n",
       "9           4.9          3.1           1.5          0.1  Iris-setosa"
      ]
     },
     "execution_count": 11,
     "metadata": {},
     "output_type": "execute_result"
    }
   ],
   "source": [
    "iris_url = 'https://archive.ics.uci.edu/ml/machine-learning-databases/iris/iris.data'\n",
    "# Use read_csv to load the data. Make sure you get 150 examples!\n",
    "iris_df = pd.read_csv(\n",
    "    filepath_or_buffer = iris_url,\n",
    "    sep = ',',\n",
    "    header = None,\n",
    ")\n",
    "\n",
    "assert len(iris_df) == 150\n",
    "\n",
    "# Set the column names to\n",
    "# 'sepal_length', 'sepal_width', 'petal_length', 'petal_width', 'target'\n",
    "iris_df.columns = ['sepal_length', 'sepal_width', 'petal_length', 'petal_width', 'target']\n",
    "\n",
    "iris_df.head(10)"
   ]
  },
  {
   "cell_type": "code",
   "execution_count": 12,
   "metadata": {
    "colab": {
     "base_uri": "https://localhost:8080/",
     "height": 297
    },
    "id": "IRV7K0gNgb2r",
    "outputId": "fdcd69b9-0653-41b4-a3ff-624250df9c68"
   },
   "outputs": [
    {
     "data": {
      "text/html": [
       "<div>\n",
       "<style scoped>\n",
       "    .dataframe tbody tr th:only-of-type {\n",
       "        vertical-align: middle;\n",
       "    }\n",
       "\n",
       "    .dataframe tbody tr th {\n",
       "        vertical-align: top;\n",
       "    }\n",
       "\n",
       "    .dataframe thead th {\n",
       "        text-align: right;\n",
       "    }\n",
       "</style>\n",
       "<table border=\"1\" class=\"dataframe\">\n",
       "  <thead>\n",
       "    <tr style=\"text-align: right;\">\n",
       "      <th></th>\n",
       "      <th>sepal_length</th>\n",
       "      <th>sepal_width</th>\n",
       "      <th>petal_length</th>\n",
       "      <th>petal_width</th>\n",
       "    </tr>\n",
       "  </thead>\n",
       "  <tbody>\n",
       "    <tr>\n",
       "      <th>count</th>\n",
       "      <td>150.000000</td>\n",
       "      <td>150.000000</td>\n",
       "      <td>150.000000</td>\n",
       "      <td>150.000000</td>\n",
       "    </tr>\n",
       "    <tr>\n",
       "      <th>mean</th>\n",
       "      <td>5.843333</td>\n",
       "      <td>3.054000</td>\n",
       "      <td>3.758667</td>\n",
       "      <td>1.198667</td>\n",
       "    </tr>\n",
       "    <tr>\n",
       "      <th>std</th>\n",
       "      <td>0.828066</td>\n",
       "      <td>0.433594</td>\n",
       "      <td>1.764420</td>\n",
       "      <td>0.763161</td>\n",
       "    </tr>\n",
       "    <tr>\n",
       "      <th>min</th>\n",
       "      <td>4.300000</td>\n",
       "      <td>2.000000</td>\n",
       "      <td>1.000000</td>\n",
       "      <td>0.100000</td>\n",
       "    </tr>\n",
       "    <tr>\n",
       "      <th>25%</th>\n",
       "      <td>5.100000</td>\n",
       "      <td>2.800000</td>\n",
       "      <td>1.600000</td>\n",
       "      <td>0.300000</td>\n",
       "    </tr>\n",
       "    <tr>\n",
       "      <th>50%</th>\n",
       "      <td>5.800000</td>\n",
       "      <td>3.000000</td>\n",
       "      <td>4.350000</td>\n",
       "      <td>1.300000</td>\n",
       "    </tr>\n",
       "    <tr>\n",
       "      <th>75%</th>\n",
       "      <td>6.400000</td>\n",
       "      <td>3.300000</td>\n",
       "      <td>5.100000</td>\n",
       "      <td>1.800000</td>\n",
       "    </tr>\n",
       "    <tr>\n",
       "      <th>max</th>\n",
       "      <td>7.900000</td>\n",
       "      <td>4.400000</td>\n",
       "      <td>6.900000</td>\n",
       "      <td>2.500000</td>\n",
       "    </tr>\n",
       "  </tbody>\n",
       "</table>\n",
       "</div>"
      ],
      "text/plain": [
       "       sepal_length  sepal_width  petal_length  petal_width\n",
       "count    150.000000   150.000000    150.000000   150.000000\n",
       "mean       5.843333     3.054000      3.758667     1.198667\n",
       "std        0.828066     0.433594      1.764420     0.763161\n",
       "min        4.300000     2.000000      1.000000     0.100000\n",
       "25%        5.100000     2.800000      1.600000     0.300000\n",
       "50%        5.800000     3.000000      4.350000     1.300000\n",
       "75%        6.400000     3.300000      5.100000     1.800000\n",
       "max        7.900000     4.400000      6.900000     2.500000"
      ]
     },
     "execution_count": 12,
     "metadata": {},
     "output_type": "execute_result"
    }
   ],
   "source": [
    "iris_df.describe()"
   ]
  },
  {
   "cell_type": "code",
   "execution_count": 13,
   "metadata": {
    "colab": {
     "base_uri": "https://localhost:8080/",
     "height": 726
    },
    "id": "vHa4zZNvg0jb",
    "outputId": "d4662e9a-93e5-4067-d03c-02c99064e5cb",
    "scrolled": true
   },
   "outputs": [
    {
     "data": {
      "text/plain": [
       "<seaborn.axisgrid.PairGrid at 0x7f41c5ca4850>"
      ]
     },
     "execution_count": 13,
     "metadata": {},
     "output_type": "execute_result"
    },
    {
     "data": {
      "image/png": "[encoded data removed]",
      "text/plain": [
       "<Figure size 823.25x720 with 20 Axes>"
      ]
     },
     "metadata": {},
     "output_type": "display_data"
    }
   ],
   "source": [
    "# Plot the data using seaborn's pairplot\n",
    "sns.pairplot(\n",
    "    iris_df,\n",
    "    hue=\"target\",\n",
    ")"
   ]
  },
  {
   "cell_type": "markdown",
   "metadata": {
    "id": "2kDC5d82oaKo"
   },
   "source": [
    "The Iris data is in a so-called 'wide' format, in which each column corresponds to a variable and each row of the DataFrame corresponds to one observation. Turn it into a 'long' format in which each row is a measurement. \n",
    "\n",
    "Specifically, change the data layout of the IRIS dataFrame so that it has 3 columns:\n",
    "- variable (one of sepal_length, sepal_width, petal_length, petal_width)\n",
    "- value\n",
    "- target\n",
    "\n",
    "If you would like to learn more, [Tidy Data](https://www.jstatsoft.org/index.php/jss/article/view/v059i10/v59i10.pdf) by [Hadley Wickham](http://hadley.nz/) provides a very nice explanation of best practices for data formating.\n",
    "\n",
    "Hint: look at reshaping functions in http://pandas.pydata.org/Pandas_Cheat_Sheet.pdf"
   ]
  },
  {
   "cell_type": "code",
   "execution_count": 14,
   "metadata": {
    "colab": {
     "base_uri": "https://localhost:8080/",
     "height": 204
    },
    "id": "_VsSfAmwrNGu",
    "outputId": "4c41da63-2768-4aec-d60e-b139b81f8325"
   },
   "outputs": [
    {
     "data": {
      "text/html": [
       "<div>\n",
       "<style scoped>\n",
       "    .dataframe tbody tr th:only-of-type {\n",
       "        vertical-align: middle;\n",
       "    }\n",
       "\n",
       "    .dataframe tbody tr th {\n",
       "        vertical-align: top;\n",
       "    }\n",
       "\n",
       "    .dataframe thead th {\n",
       "        text-align: right;\n",
       "    }\n",
       "</style>\n",
       "<table border=\"1\" class=\"dataframe\">\n",
       "  <thead>\n",
       "    <tr style=\"text-align: right;\">\n",
       "      <th></th>\n",
       "      <th>target</th>\n",
       "      <th>variable</th>\n",
       "      <th>value</th>\n",
       "    </tr>\n",
       "  </thead>\n",
       "  <tbody>\n",
       "    <tr>\n",
       "      <th>0</th>\n",
       "      <td>Iris-setosa</td>\n",
       "      <td>sepal_length</td>\n",
       "      <td>5.1</td>\n",
       "    </tr>\n",
       "    <tr>\n",
       "      <th>1</th>\n",
       "      <td>Iris-setosa</td>\n",
       "      <td>sepal_length</td>\n",
       "      <td>4.9</td>\n",
       "    </tr>\n",
       "    <tr>\n",
       "      <th>2</th>\n",
       "      <td>Iris-setosa</td>\n",
       "      <td>sepal_length</td>\n",
       "      <td>4.7</td>\n",
       "    </tr>\n",
       "    <tr>\n",
       "      <th>3</th>\n",
       "      <td>Iris-setosa</td>\n",
       "      <td>sepal_length</td>\n",
       "      <td>4.6</td>\n",
       "    </tr>\n",
       "    <tr>\n",
       "      <th>4</th>\n",
       "      <td>Iris-setosa</td>\n",
       "      <td>sepal_length</td>\n",
       "      <td>5.0</td>\n",
       "    </tr>\n",
       "  </tbody>\n",
       "</table>\n",
       "</div>"
      ],
      "text/plain": [
       "        target      variable  value\n",
       "0  Iris-setosa  sepal_length    5.1\n",
       "1  Iris-setosa  sepal_length    4.9\n",
       "2  Iris-setosa  sepal_length    4.7\n",
       "3  Iris-setosa  sepal_length    4.6\n",
       "4  Iris-setosa  sepal_length    5.0"
      ]
     },
     "execution_count": 14,
     "metadata": {},
     "output_type": "execute_result"
    }
   ],
   "source": [
    "targets = [\"sepal_length\", \"sepal_width\", \"petal_length\", \"petal_width\"]\n",
    "chunks = []\n",
    "\n",
    "for target in targets:\n",
    "\n",
    "    # remove interesting parts\n",
    "    iris_df_data_chunk = iris_df[[\"target\", target]]\n",
    "\n",
    "    # add a column to say what we are talking about\n",
    "    ech = pd.DataFrame({\n",
    "        \"variable\" : [target for _ in range(len(iris_df))]\n",
    "    })\n",
    "\n",
    "    # concat the data so that we have concatable arrays\n",
    "    iris_df_data_chunk = pd.concat(\n",
    "        [iris_df_data_chunk, ech],\n",
    "        axis = 1,\n",
    "    )\n",
    "    \n",
    "    # annotate the data. That is some garbage, but w/e\n",
    "    iris_df_data_chunk.columns = ['target', 'variable', 'value']\n",
    "    iris_df_data_chunk = iris_df_data_chunk[[\"target\", \"value\", \"variable\"]]\n",
    "    iris_df_data_chunk.columns = ['target', 'variable', 'value']\n",
    "        \n",
    "    chunks.append(iris_df_data_chunk)\n",
    "\n",
    "iris_df_long = pd.concat(chunks)\n",
    "    \n",
    "iris_df_long.head(5) "
   ]
  },
  {
   "cell_type": "markdown",
   "metadata": {
    "id": "28A-QiuosBw8"
   },
   "source": [
    "Now create a box-plot of values that each variable takes, split by the target species."
   ]
  },
  {
   "cell_type": "code",
   "execution_count": 15,
   "metadata": {
    "colab": {
     "base_uri": "https://localhost:8080/",
     "height": 1000
    },
    "id": "51HhmH0msNdM",
    "outputId": "f6ddb446-41bf-41c0-9ba8-6916aa7f787f"
   },
   "outputs": [
    {
     "data": {
      "text/plain": [
       "<seaborn.axisgrid.FacetGrid at 0x7f41c2c4e3a0>"
      ]
     },
     "execution_count": 15,
     "metadata": {},
     "output_type": "execute_result"
    },
    {
     "data": {
      "image/png": "[encoded data removed]",
      "text/plain": [
       "<Figure size 1440x360 with 4 Axes>"
      ]
     },
     "metadata": {},
     "output_type": "display_data"
    },
    {
     "data": {
      "image/png": "[encoded data removed]",
      "text/plain": [
       "<Figure size 1440x360 with 4 Axes>"
      ]
     },
     "metadata": {},
     "output_type": "display_data"
    },
    {
     "data": {
      "image/png": "[encoded data removed]",
      "text/plain": [
       "<Figure size 1440x360 with 4 Axes>"
      ]
     },
     "metadata": {},
     "output_type": "display_data"
    }
   ],
   "source": [
    "# Hint: use a `catplot`\n",
    "sns.catplot(\n",
    "    x = \"target\",\n",
    "    y = \"value\",\n",
    "    hue = \"target\",\n",
    "    data = iris_df_long,\n",
    "    kind = \"box\",\n",
    "    col = \"variable\",\n",
    ")\n",
    "\n",
    "# TODO: create two more plots, using a boxenplot and a swarmplot.\n",
    "\n",
    "sns.catplot(\n",
    "    x = \"target\",\n",
    "    y = \"value\",\n",
    "    hue = \"target\",\n",
    "    data = iris_df_long,\n",
    "    kind = \"boxen\",\n",
    "    col = \"variable\",\n",
    ")\n",
    "\n",
    "sns.catplot(\n",
    "    x = \"target\",\n",
    "    y = \"value\",\n",
    "    hue = \"target\",\n",
    "    data = iris_df_long,\n",
    "    kind = \"swarm\",\n",
    "    col = \"variable\",\n",
    ")\n"
   ]
  },
  {
   "cell_type": "markdown",
   "metadata": {
    "id": "Es80_WJM33_n"
   },
   "source": [
    "### k-Nearest Neighbors\n",
    "\n",
    "We will use the loaded Iris data describing iris flowers\n",
    "and shows relations between their length and petal width for three\n",
    "species (namely: setosa, versicolor, virginica).\n",
    "\n",
    "For this exercise we will restrict our analysis to just two variables: **petal length** and **petal width**."
   ]
  },
  {
   "cell_type": "code",
   "execution_count": 54,
   "metadata": {
    "colab": {
     "base_uri": "https://localhost:8080/",
     "height": 297
    },
    "id": "e9dHQGslwvuc",
    "outputId": "efc92fbb-74a9-47f4-aaa6-eb981ab93631"
   },
   "outputs": [
    {
     "data": {
      "text/plain": [
       "<matplotlib.axes._subplots.AxesSubplot at 0x7f41c016b160>"
      ]
     },
     "execution_count": 54,
     "metadata": {},
     "output_type": "execute_result"
    },
    {
     "data": {
      "image/png": "[encoded data removed]",
      "text/plain": [
       "<Figure size 432x288 with 1 Axes>"
      ]
     },
     "metadata": {},
     "output_type": "display_data"
    }
   ],
   "source": [
    "unknown_df = pd.DataFrame(\n",
    "    [[1.5, 0.3, 'unknown'],\n",
    "     [4.5, 1.2, 'unknown'],\n",
    "     [5.1, 1.7, 'unknown'],\n",
    "     [5.5, 2.3, 'unknown']],\n",
    "     columns=['petal_length', 'petal_width', 'target'])\n",
    "\n",
    "sns.scatterplot(x='petal_length', y='petal_width', hue='target', data=iris_df)\n",
    "sns.scatterplot(x='petal_length', y='petal_width', color='gray', marker='v',\n",
    "                label='unknown', s=70, data=unknown_df)"
   ]
  },
  {
   "cell_type": "markdown",
   "metadata": {
    "id": "s2khewKZ33_w"
   },
   "source": [
    "Based on these two features, it is easy to distinguish iris setosa from the two remaining species. Yet iris versicolor and virginica remain mixed together. \n",
    "\n",
    "Looking closely at the plot, we might estimate the species of the selected unknown irises (gray triangles). For three of them the answer seems obvious – they belong in uniformly-colored areas covered by one species only. Yet unknown iris flower in (5.1, 1.7) is troublesome – it lays on the boundary of versicolor and virginica clusters. We can assume, that its species is the one of the closest one to it, coming from the training set (and so having a label). \n",
    "\n",
    "K-Nearest Neighbors method (http://en.wikipedia.org/wiki/K-nearest_neighbors_algorithm) solves the classification problem, i.e. sets class labels (species in case of irises) of a previously unseen sample by choosing the most common class among the top k neighbors of the sample in question (for instance according to the Euclidean distance). Thus, the k-Nearest Neighbors algorithm works as follows. For each unlabeled sample x:\n",
    "1. Find k nearest neighbors among the labeled samples.\n",
    "2. Set the most common label among them as label of x."
   ]
  },
  {
   "cell_type": "markdown",
   "metadata": {
    "id": "dpyfaeVg72jo"
   },
   "source": [
    "#### Problem 3 [3p]"
   ]
  },
  {
   "cell_type": "markdown",
   "metadata": {
    "id": "F6sG0bxf33_y"
   },
   "source": [
    "##### Implement the k-Nearest Neighbors algorithm [1p].\n",
    "\n",
    "Take advantage of matrix calculus rather than using for loops.\n",
    "\n",
    "**Tip:** What is computed by \\begin{equation} \\sqrt{(X - Y)^T (X - Y)} \\end{equation} when both X and Y are vectors?\n",
    "\n",
    "**Tip:** Try to use broadcasting (NumPy: http://docs.scipy.org/doc/numpy/user/basics.broadcasting.html) and built-ins sort, numpy.sort, numpy.argsort (sorting), scipy.stats.mode (choosing the most common element of the set)."
   ]
  },
  {
   "cell_type": "code",
   "execution_count": 116,
   "metadata": {
    "id": "hKhbqAUTz5yy"
   },
   "outputs": [],
   "source": [
    "import math\n",
    "\n",
    "def KNN(train_X, train_Y, test_X, ks, verbose=False, LOA=False):\n",
    "    \"\"\"\n",
    "    Compute predictions for various k\n",
    "    Args:\n",
    "        train_X: array of shape Ntrain x D\n",
    "        train_Y: array of shape Ntrain\n",
    "        test_X: array of shape Ntest x D\n",
    "        ks: list of integers\n",
    "    Returns:\n",
    "        preds: dict k: predictions for k\n",
    "    \"\"\"\n",
    "    # Cats data to float32\n",
    "    train_X = train_X.astype(np.float32)\n",
    "    test_X = test_X.astype(np.float32)\n",
    "\n",
    "    # Alloc space for results\n",
    "    preds = {}\n",
    "\n",
    "\n",
    "    if verbose:\n",
    "        print(f\"test set size is {test_X.shape}\")\n",
    "        print(f\"train set size is {train_X.shape}\")\n",
    "        print(\"Computing distances... \", end='')\n",
    "    # sqrt((X-Y)^T x (X-Y)) where X and Y are vectors will calculate the distance from X to Y\n",
    "    # however, we can miss the sqrt() since the square of distance is also a good metric to go \n",
    "    # with. Miss me with that x86_64 extended 1 cycle sqrt bs\n",
    "\n",
    "    distm = np.zeros((len(train_X), len(test_X)))\n",
    "    if verbose:\n",
    "        print(f\"distance matrix is {distm.shape}\")\n",
    "    distm -= 2.0 * np.transpose(test_X @ np.transpose(train_X))\n",
    "    distm += np.sum(np.square(train_X), axis=1).reshape(len(train_X), 1) + np.transpose(np.sum(np.square(test_X), axis=1).reshape(len(test_X), 1))\n",
    "\n",
    "    dist = [np.transpose(distm)[it,:] for it in range(len(test_X))]\n",
    "    \n",
    "    if verbose:\n",
    "        print(\"Sorting... \", end='')\n",
    "    \n",
    "    closest = [np.argsort(x) for x in dist]\n",
    "    \n",
    "    if verbose:\n",
    "        print(\"Computing predictions...\", end='')\n",
    "    \n",
    "    for k in ks:\n",
    "        e = []\n",
    "        for p in range(len(test_X)):\n",
    "            answers = []\n",
    "            #print(\"\\n===============\")\n",
    "            #print(f\"testing for {p} => {test_X[p]}\")\n",
    "            \n",
    "            if LOA:\n",
    "                ngh = closest[p][:int(k + 1)]\n",
    "                #print(f\"closest {closest[p][:int(k + 1)]}\")\n",
    "                if p in ngh:\n",
    "                    ngh = ngh[ngh != p]\n",
    "                else:\n",
    "                    ngh = ngh[:-1]\n",
    "                \n",
    "                answers = [train_Y[n] for n in ngh]\n",
    "                #print(f\"selected {ngh}\")\n",
    "            else:\n",
    "                answers = train_Y[closest[p][:int(k)]]\n",
    "\n",
    "            winner = sstats.mode(answers)\n",
    "            e.append(winner.mode[0])\n",
    "        preds[k] = e\n",
    "        \n",
    "    if verbose:\n",
    "        print(\"Done\")\n",
    "    \n",
    "    return preds"
   ]
  },
  {
   "cell_type": "code",
   "execution_count": 70,
   "metadata": {
    "colab": {
     "base_uri": "https://localhost:8080/",
     "height": 153
    },
    "id": "RSiSLLke2K1r",
    "outputId": "b372968d-593b-486a-f6f3-d98b6dab530c",
    "scrolled": true
   },
   "outputs": [
    {
     "data": {
      "text/plain": [
       "{1: ['Iris-setosa', 'Iris-versicolor', 'Iris-virginica', 'Iris-virginica'],\n",
       " 3: ['Iris-setosa', 'Iris-versicolor', 'Iris-versicolor', 'Iris-virginica'],\n",
       " 5: ['Iris-setosa', 'Iris-versicolor', 'Iris-virginica', 'Iris-virginica'],\n",
       " 7: ['Iris-setosa', 'Iris-versicolor', 'Iris-virginica', 'Iris-virginica']}"
      ]
     },
     "execution_count": 70,
     "metadata": {},
     "output_type": "execute_result"
    }
   ],
   "source": [
    "# Now classify the 4 unknown points\n",
    "iris_x = np.array(iris_df[['petal_length', 'petal_width']])\n",
    "iris_y = np.array(iris_df['target'])\n",
    "\n",
    "unknown_x = np.array(unknown_df[['petal_length', 'petal_width']])\n",
    "\n",
    "KNN(iris_x, iris_y, unknown_x, [1, 3, 5, 7], False, False)\n"
   ]
  },
  {
   "cell_type": "markdown",
   "metadata": {
    "id": "wZ3Ef8Np7ZU8"
   },
   "source": [
    "##### Plot the Decision boundary [1p]\n",
    "\n",
    "\n",
    "Use meshgrid to generate the points in the space spanned by data.\n",
    "Then map the classes to numbers 0, 1, 2 and make a contour plot with the\n",
    "decision boundary."
   ]
  },
  {
   "cell_type": "code",
   "execution_count": 71,
   "metadata": {
    "colab": {
     "base_uri": "https://localhost:8080/",
     "height": 1000
    },
    "id": "w3aeNd0E3r8w",
    "outputId": "d71bf2b1-9243-4029-e056-a3f793c81db2"
   },
   "outputs": [
    {
     "data": {
      "application/vnd.jupyter.widget-view+json": {
       "model_id": "50f87d0f087b4cfcb31a981edb70e181",
       "version_major": 2,
       "version_minor": 0
      },
      "text/plain": [
       "interactive(children=(IntSlider(value=7, description='k', max=15, min=1, step=2), Output()), _dom_classes=('wi…"
      ]
     },
     "metadata": {},
     "output_type": "display_data"
    }
   ],
   "source": [
    "iris_x = np.array(iris_df[['petal_length', 'petal_width']])\n",
    "iris_y = np.array(iris_df['target'])\n",
    "\n",
    "y = np.arange(min(iris_x[:,1]), max(iris_x[:,1]+0.5), 0.05)\n",
    "x = np.arange(min(iris_x[:,0]), max(iris_x[:,0]+0.5), 0.05)\n",
    "\n",
    "mesh_x, mesh_y = np.meshgrid(x, y)\n",
    "\n",
    "#use np.unique with suitable options to map the class names to numbers\n",
    "target_names, iris_y_ids = np.unique(\n",
    "    iris_y,\n",
    "    return_inverse=True,\n",
    ")\n",
    "\n",
    "mesh_data = np.hstack([mesh_x.reshape(-1, 1), mesh_y.reshape(-1, 1)])\n",
    "\n",
    "preds = KNN(iris_x, iris_y_ids, mesh_data, [1, 3, 5, 7, 9, 11, 13, 15])\n",
    "\n",
    "@interact(k=(1, 15, 2))\n",
    "def display(k):\n",
    "    plt.figure()\n",
    "    plt.title(f\"Decision boundary for k={k}\")\n",
    "    plt.contourf(\n",
    "        mesh_x,\n",
    "        mesh_y,\n",
    "        np.array(preds[k]).reshape((len(y), len(x))),\n",
    "        cmap=\"autumn\",\n",
    "    )\n",
    "    \n",
    "    plt.scatter(\n",
    "        iris_x[:,0],\n",
    "        iris_x[:,1],\n",
    "        c=iris_y_ids,\n",
    "        cmap=\"rocket\",\n",
    "    )\n"
   ]
  },
  {
   "cell_type": "markdown",
   "metadata": {
    "id": "1iZtHs5A33_z"
   },
   "source": [
    "##### Estimate performance for various ks [1p]\n",
    "Consider the following experiment (bootsrap error estimation):\n",
    "1. We sample **with replacement** a dataset equal in size to the amount of data we have (i.e. for Iris, we pick 150 examples). This forms a trainign set. Since we have sampled with replacement, some samples were picked multiple times, and some were left out. Form a test set from the remaining ones.\n",
    "2. Based on the training set, we use the k-NN algorithm to predict the labels on the test set.\n",
    "3. We then check the number of errors and write it down.\n",
    "\n",
    "Do this 500 times for k ∈ {1, 3, 5, ..., 19}. Plot a function of the average number of errors as the function of k. It should be similar to one of the plots below."
   ]
  },
  {
   "cell_type": "code",
   "execution_count": 72,
   "metadata": {
    "id": "24FeneG8A4Hi"
   },
   "outputs": [],
   "source": [
    "#TODO: write a function to compute error rates\n",
    "def err_rates(preds, test_Y):\n",
    "    ret = {}\n",
    "    for k, preds_k in  preds.items():\n",
    "        correct = 0\n",
    "        for it, res in enumerate(preds_k):\n",
    "            if res == test_Y[it]:\n",
    "                correct += 1\n",
    "        ret[k] = 1.0 - (float(correct) / float(len(preds_k)))\n",
    "    return ret"
   ]
  },
  {
   "cell_type": "code",
   "execution_count": 74,
   "metadata": {
    "colab": {
     "base_uri": "https://localhost:8080/",
     "height": 641,
     "referenced_widgets": [
      "979ad871a0b54ab186436193795eeded",
      "8e2a6677c3c141b797abdb4feba684dc",
      "77a2d1de076d46878b3fd598fc4720bf",
      "ac1dab16d5d04403a27ee242c5147a90",
      "d5e85576669a4c29a09723d03bb248a4",
      "d1d009fc60794726ba78ba5fc0c8b784",
      "373b9bc3337545648b43eb8f946e5a46",
      "4093b23368614ded876709b26bdbb60e"
     ]
    },
    "id": "7U4ejQYy1BRT",
    "outputId": "e19323af-2064-47c7-81d8-c02f1e93ad21"
   },
   "outputs": [
    {
     "data": {
      "application/vnd.jupyter.widget-view+json": {
       "model_id": "c2ad98cf775b453699342a9998a91f7a",
       "version_major": 2,
       "version_minor": 0
      },
      "text/plain": [
       "HBox(children=(FloatProgress(value=0.0, max=1000.0), HTML(value='')))"
      ]
     },
     "metadata": {},
     "output_type": "display_data"
    },
    {
     "name": "stdout",
     "output_type": "stream",
     "text": [
      "\n",
      "        K  err_rate\n",
      "0       1  0.041667\n",
      "1       3  0.062500\n",
      "2       5  0.041667\n",
      "3       7  0.041667\n",
      "4       9  0.041667\n",
      "...    ..       ...\n",
      "14995  21  0.054545\n",
      "14996  23  0.054545\n",
      "14997  25  0.054545\n",
      "14998  27  0.036364\n",
      "14999  29  0.036364\n",
      "\n",
      "[15000 rows x 2 columns]\n"
     ]
    },
    {
     "data": {
      "text/plain": [
       "<matplotlib.axes._subplots.AxesSubplot at 0x7f41c29957f0>"
      ]
     },
     "execution_count": 74,
     "metadata": {},
     "output_type": "execute_result"
    },
    {
     "data": {
      "image/png": "[encoded data removed]",
      "text/plain": [
       "<Figure size 432x288 with 1 Axes>"
      ]
     },
     "metadata": {},
     "output_type": "display_data"
    }
   ],
   "source": [
    "iris_x = np.array(iris_df[['sepal_length', 'sepal_width', 'petal_length', 'petal_width']])\n",
    "iris_y = np.array(iris_df['target'])\n",
    "\n",
    "ks = range(1, 30, 2)\n",
    "results = []\n",
    "\n",
    "for _rep in tqdm(range(1000)):\n",
    "    #TODO\n",
    "    # Use np.random.randint to get training indices\n",
    "    # The find all unselected indices to form a test set \n",
    "    training_targets = np.random.randint(\n",
    "        low = 0, \n",
    "        high = len(iris_df) - 1,\n",
    "        size = 150,    \n",
    "    )\n",
    "\n",
    "    train_X = []\n",
    "    train_Y = []\n",
    "    test_X = []\n",
    "    test_Y = []\n",
    "\n",
    "    for t in training_targets:\n",
    "        train_X.append(iris_x[t])\n",
    "        train_Y.append(iris_y[t])\n",
    "    \n",
    "    training_set = set(training_targets)\n",
    "    for t in range(len(iris_x)):\n",
    "        if t not in training_set:\n",
    "            test_X.append(iris_x[t])\n",
    "            test_Y.append(iris_y[t])        \n",
    "\n",
    "    #TODO: apply your kNN classifier to data subset\n",
    "    preds = KNN(\n",
    "        np.array(train_X), \n",
    "        np.array(train_Y), \n",
    "        np.array(test_X), \n",
    "        ks,\n",
    "        False,\n",
    "        False,\n",
    "    )\n",
    "    \n",
    "    errs = err_rates(preds, test_Y)\n",
    "    \n",
    "    for k, errs_k in errs.items():\n",
    "        results.append({'K':k, 'err_rate': errs_k})\n",
    "\n",
    "# results_df will be a data_frame in long format\n",
    "results_df = pd.DataFrame(results)\n",
    "print(results_df)\n",
    "#plt.figure(results_df)\n",
    "sns.regplot(\n",
    "    x = 'K', \n",
    "    y='err_rate', \n",
    "    data = results_df,\n",
    "    x_estimator=np.mean,\n",
    "    order=3,\n",
    ")\n"
   ]
  },
  {
   "cell_type": "markdown",
   "metadata": {
    "id": "ozuWZxLXXxqa"
   },
   "source": [
    "#### Problem 4 [2p]"
   ]
  },
  {
   "cell_type": "markdown",
   "metadata": {
    "id": "f7C17WB7aEIo"
   },
   "source": [
    "Implement the k-NN algorithm with a leave-one-out error estimation (Note: it can be done very efficiently).\n",
    "\n",
    "Then perform two experiments:\n",
    "1. plot the leave-one-out error rate as a function of $K$\n",
    "2. choose K=15, plot the leave-one-out error rate as a function of training dataset size. For best results, repeath the experiment 100 times with different permutations of the dataset."
   ]
  },
  {
   "cell_type": "code",
   "execution_count": 119,
   "metadata": {
    "id": "uhx4UjY4X3Sz"
   },
   "outputs": [
    {
     "name": "stdout",
     "output_type": "stream",
     "text": [
      "test set size is (150, 4)\n",
      "train set size is (150, 4)\n",
      "Computing distances... distance matrix is (150, 150)\n",
      "Sorting... Computing predictions...Done\n"
     ]
    }
   ],
   "source": [
    "k = np.linspace(1, 25, (25+1)//2)\n",
    "\n",
    "results = []\n",
    "\n",
    "estimates = KNN(iris_x, iris_y, iris_x, k, True, True)\n",
    "erate = err_rates(estimates, iris_y)\n",
    "for klet in k:\n",
    "    results.append({'K':klet, 'err_rate': erate[klet]})\n",
    "\n",
    "results_df = pd.DataFrame(results)"
   ]
  },
  {
   "cell_type": "code",
   "execution_count": 121,
   "metadata": {},
   "outputs": [
    {
     "data": {
      "text/plain": [
       "<matplotlib.axes._subplots.AxesSubplot at 0x7f41c29a30d0>"
      ]
     },
     "execution_count": 121,
     "metadata": {},
     "output_type": "execute_result"
    },
    {
     "data": {
      "image/png": "[encoded data removed]",
      "text/plain": [
       "<Figure size 432x288 with 1 Axes>"
      ]
     },
     "metadata": {},
     "output_type": "display_data"
    }
   ],
   "source": [
    "sns.regplot(\n",
    "    x = 'K', \n",
    "    y='err_rate', \n",
    "    data = results_df,\n",
    "    order=2,\n",
    ")"
   ]
  },
  {
   "cell_type": "markdown",
   "metadata": {
    "colab": {
     "base_uri": "https://localhost:8080/",
     "height": 296
    },
    "id": "uhRGLfUmX4Op",
    "outputId": "76a50fd9-d792-4e8f-fc58-0436a0fb4fe2"
   },
   "source": []
  },
  {
   "cell_type": "code",
   "execution_count": null,
   "metadata": {
    "colab": {
     "base_uri": "https://localhost:8080/",
     "height": 332,
     "referenced_widgets": [
      "b215168ae6944e7b9eb0472485d6ac7c",
      "cd2702e9872d4a47b496e2fb4a86f9d8",
      "a6c9c0c60ee24f21a215205c6246267e",
      "29871ab8355d4d338fe8d17f4fad0a74",
      "59849e92f6a746cd866d73c77290b666",
      "0bc10bee742b47e1b1b367aa8b6332b3",
      "8bdcccb3493f487bbe6824c98e53938d",
      "7c16ef9daaed44d58e1c63cbdd5dfc4c"
     ]
    },
    "id": "XYGjasc_Y4Ac",
    "outputId": "7ce409a3-7e9d-4b13-e20c-7e46e8f0c8d7"
   },
   "outputs": [],
   "source": []
  },
  {
   "cell_type": "markdown",
   "metadata": {
    "id": "A86GnZpa33_0"
   },
   "source": [
    "#### Problem 5 [2p] \n",
    "\n",
    "Apply the K-Nearest Neighbors (K-NN) algorithm to the MNIST dataset. \n",
    "\n",
    "The MNIST (http://yann.lecun.com/exdb/mnist/) dataset consists of normalized (centered and stretched) scans of hand-written digits. Specifically, each element of the dataset is a 28 × 28 grayscale image, thus having 764 8-bit pixels. \n",
    "\n",
    "1. Display a few objects from each of the classes, paying attention to aesthetics and clarity of your presentation. **Note:** You already downloaded the dataset in \"Setup\" section. Please use the code below to get started.\n",
    "\n",
    "2. **[2p]** Apply a k-NN classifier to the MNIST dataset. First, divide the training set into two parts, which we will call training and validation. On MNIST use the first 50000 samples for training and the last 10000 for validation. Then find the optimal number of neighbors by assessing the accuracy on the validation set. You do not need to repeat this experiment multiple times. Finally, compute the accuracy on the test set obtained with the best previously chosen number of neighbors. On MNIST you should get about 3% errors. Pick a few mislabeled samples from the test dataset and plot them along with the correct ones. **Note:**\n",
    "  * MNIST is much larger than the Iris dataset. A good implementation may need a few minutes depending on your runtime type. Please optimize your algorithm:\n",
    "  * Compute the distances only once, then test for different values of k.\n",
    "  * Use vectorized expressions to compute the distance. It is possible to compute all distances between the training and testing points in one expression. Hint: think about the vectorized expression \\begin{equation}(X - Y)^T (X - Y)\\end{equation}\n",
    "  * You can use single precision numbers in computation.\n",
    "  * If your code is taking a long time to execute, please save its results before the lab session.\n",
    "\n",
    "**Note:** in NumPy, matrices have its own data type (dtype), which is retained during\n",
    "calculations. Please pay attention to it. I particular, do not subtract values of data types not\n",
    "having the sign bit, do not divide integers, etc. Results of such operations will not be\n",
    "automatically casted to types having the required precision."
   ]
  },
  {
   "cell_type": "code",
   "execution_count": 23,
   "metadata": {
    "id": "3AvAeiDN33_1"
   },
   "outputs": [
    {
     "name": "stdout",
     "output_type": "stream",
     "text": [
      "10000\n"
     ]
    }
   ],
   "source": [
    "with np.load('mnist.npz') as data:\n",
    "    mnist_full_train_data_uint8 = data['train_data']\n",
    "    mnist_full_train_labels_int64 = data['train_labels']\n",
    "    mnist_test_data_uint8 = data['test_data']\n",
    "    mnist_test_labels_int64 = data['test_labels']\n",
    "        \n",
    "print(len(mnist_test_data_uint8))\n",
    "# Split train data into train and validation sets\n",
    "mnist_train_data_uint8 = mnist_full_train_data_uint8[:50000]\n",
    "mnist_train_labels_int64 = mnist_full_train_labels_int64[:50000]\n",
    "mnist_valid_data_uint8 = mnist_full_train_data_uint8[50000:]\n",
    "mnist_valid_labels_int64 = mnist_full_train_labels_int64[50000:]"
   ]
  },
  {
   "cell_type": "code",
   "execution_count": 24,
   "metadata": {
    "colab": {
     "base_uri": "https://localhost:8080/",
     "height": 248
    },
    "id": "aenFc3L633_4",
    "outputId": "49ea3289-2317-4ed0-e3d8-bf357d136e15"
   },
   "outputs": [
    {
     "data": {
      "image/png": "[encoded data removed]",
      "text/plain": [
       "<Figure size 432x288 with 1 Axes>"
      ]
     },
     "metadata": {},
     "output_type": "display_data"
    }
   ],
   "source": [
    "plot_mat(mnist_train_data_uint8[:20, None], cmap='gray')"
   ]
  },
  {
   "cell_type": "code",
   "execution_count": 25,
   "metadata": {
    "id": "ZK46uiW4-Yox"
   },
   "outputs": [],
   "source": [
    "# MNIST is large.\n",
    "# Implement a batched KNN classifier, which processes the test data in small batches\n",
    "# and returns the error rates\n",
    "\n",
    "# The code should not run for more than a couple of minutes on the Colab runtime, \n",
    "# If it is slower, optimize the distance computation in KNN\n",
    "\n",
    "def batched_KNN(train_X, train_Y, test_X, ks, verbose=False, batch_size=500):\n",
    "    all_preds = {k: [] for k in ks}\n",
    "    for i in tqdm(range(0, test_X.shape[0], batch_size)):\n",
    "        batch_X = test_X[i:i + batch_size]\n",
    "        \n",
    "        preds = KNN(train_X, train_Y, batch_X, ks, verbose)\n",
    "        for k in all_preds.keys():\n",
    "            all_preds[k] = np.concatenate([all_preds[k], preds[k]])\n",
    "\n",
    "    return all_preds"
   ]
  },
  {
   "cell_type": "code",
   "execution_count": 26,
   "metadata": {
    "colab": {
     "base_uri": "https://localhost:8080/",
     "height": 331,
     "referenced_widgets": [
      "748dd8a0e1da49f88e6c1eab93a3c1d7",
      "7f3bec5c96424eacb616ceff17aab6be",
      "c39655187b744b55a3a2f83652a1df01",
      "95c8e06fe48c40d5825b2d923de456a6",
      "67ccbb3575384056920db7ae366ddb9f",
      "fba0dacd9d6443eba306b954040097bd",
      "dee9ce56a6e7422eaea91ecc019c174c",
      "97206dd254b84e1482c72c92e141cd87"
     ]
    },
    "id": "OZB49qMMCP9i",
    "outputId": "c75b35cc-3e21-45b3-902c-60288b6b72f9"
   },
   "outputs": [
    {
     "data": {
      "application/vnd.jupyter.widget-view+json": {
       "model_id": "a9685043383b4707be84036fa3bf9608",
       "version_major": 2,
       "version_minor": 0
      },
      "text/plain": [
       "HBox(children=(FloatProgress(value=0.0, max=20.0), HTML(value='')))"
      ]
     },
     "metadata": {},
     "output_type": "display_data"
    },
    {
     "name": "stdout",
     "output_type": "stream",
     "text": [
      "\n"
     ]
    },
    {
     "data": {
      "text/plain": [
       "[<matplotlib.lines.Line2D at 0x7f41c1945100>]"
      ]
     },
     "execution_count": 26,
     "metadata": {},
     "output_type": "execute_result"
    },
    {
     "data": {
      "image/png": "[encoded data removed]",
      "text/plain": [
       "<Figure size 432x288 with 1 Axes>"
      ]
     },
     "metadata": {},
     "output_type": "display_data"
    }
   ],
   "source": [
    "# Now find the best k on the validation set\n",
    "ks = [1, 3, 5, 7, 9]\n",
    "mnist_validation_preds = batched_KNN(\n",
    "    mnist_train_data_uint8.astype('float32').reshape(-1, 28*28), mnist_train_labels_int64,\n",
    "    mnist_valid_data_uint8.astype('float32').reshape(-1, 28*28),\n",
    "    ks)\n",
    "\n",
    "mnist_validation_errs = err_rates(mnist_validation_preds, mnist_valid_labels_int64)\n",
    "plt.plot(ks, [mnist_validation_errs[k] for k in ks])"
   ]
  },
  {
   "cell_type": "code",
   "execution_count": 27,
   "metadata": {
    "colab": {
     "base_uri": "https://localhost:8080/",
     "height": 117,
     "referenced_widgets": [
      "f5104d0fdb3f4f3892cffd2ac32ebaab",
      "c43cb6db2c23406d8990223c01b9dd7b",
      "753286544eb342998488bbc51679f612",
      "5db9f73f2592401896abc179ad205929",
      "adf55fa7aa494e5eb49496152820f059",
      "50c0a9facce24760ab6e2ffba4c2552f",
      "cf366d9ec2144ba1a0a0787369215807",
      "3faa15c3a61b499e8a756cb6bd89229d"
     ]
    },
    "id": "l5j4eGVN34AR",
    "outputId": "078e287f-0f0f-4009-8072-0c2885e9555e"
   },
   "outputs": [
    {
     "data": {
      "application/vnd.jupyter.widget-view+json": {
       "model_id": "c94f3160454342298a8aeaa1e767a82d",
       "version_major": 2,
       "version_minor": 0
      },
      "text/plain": [
       "HBox(children=(FloatProgress(value=0.0, max=20.0), HTML(value='')))"
      ]
     },
     "metadata": {},
     "output_type": "display_data"
    },
    {
     "name": "stdout",
     "output_type": "stream",
     "text": [
      "\n",
      "\n",
      "\n",
      "When k=3 the test error rate is 2.9%%\n"
     ]
    }
   ],
   "source": [
    "# Now use the best k to compute the test error\n",
    "\n",
    "best_K = 3\n",
    "\n",
    "mnist_test_preds = batched_KNN(\n",
    "    mnist_full_train_data_uint8.astype('float32').reshape(-1, 28*28), \n",
    "    mnist_full_train_labels_int64,\n",
    "    mnist_test_data_uint8.astype('float32').reshape(-1, 28*28), \n",
    "    [best_K])\n",
    "\n",
    "mnist_test_errs = err_rates(mnist_test_preds, mnist_test_labels_int64)\n",
    "print(f\"\\n\\nWhen k={best_K} the test error rate is {mnist_test_errs[best_K] * 100.0:.1f}%%\")"
   ]
  },
  {
   "cell_type": "markdown",
   "metadata": {
    "id": "1qq8XLOt34AX"
   },
   "source": [
    "### Locality sensitive hashing\n",
    "\n",
    "Problem 4 was about speeding up the inference using loops implicitly present in matrix multiplication instead of explicit loops in Python. In this problem, we will explore a strategy to truly reduce the total number of computations required to find nearest neighbors without sacrificing too much accuracy.\n",
    "\n",
    "To speed up nearest neighbor search we will employ *Locality Sensitive Hashing (LSH)* functions. For a given distance metric, the locality sensitive hash should put items that are similar into the same bucket. Notice that this is essentially a design choice opposite to traditional cryptographic hash functions that should amplify the difference of similar inputs (typically we want that small perturbations of data result in large changes to the hash value).\n",
    "\n",
    "One of the simplest implementations of LSH approximates the cosine distance. Let $x\\in \\mathbb{R}^N$ and $y\\in \\mathbb{R}^N$ be two vectors. Their cosine distance is defined as:\n",
    "\n",
    "\\begin{equation}\n",
    "    d_\\text{cos}(x,y) = \\frac{x \\cdot y}{\\|x\\| \\|y\\|} = \\cos\\left(\\theta(x,y)\\right),\n",
    "\\end{equation}\n",
    "where $\\theta(x,y)$ is the unsigned angle between $x$ and $y$.\n",
    "\n",
    "We will construct a family $H$ of hash functions that are an LSH for angle distances (an approximation to cosine distance). Assume $p\\in \\mathbb{R}^N$ is a random vector (components are sampled from the normal distribution) of length 1. Then define the hash function $h(x) = \\text{sgn}(x\\cdot p)$, where $\\text{sgn()}$ is the sign function. It can be proven that:\n",
    "\n",
    "\\begin{equation}\n",
    "    p_{h\\in H}[h(x)=h(y)] = 1 - \\frac{\\theta(x,y)}{\\pi}.\n",
    "\\end{equation}\n",
    "\n",
    "The equation means that the probability of a hash collision grows as the the angle between two vectors gets smaller. Therefore, vectors that are close according to the cosine distance will be put with high probability into the same bin (we use the fact that for small $\\theta$ we can approximate $\\cos(\\theta) = 1 - \\theta/\\pi$.\n",
    "\n",
    "We will say that a family of randomly chosen hash functions $H$ is $(d_1, d_2, p_1, p_2)$-sensitive with respect to a distance metric $d$ if for any $x$ and $y$:\n",
    "1. If $d(x,y) \\leq d_1$ then $p_{h\\in H}[h(x)=h(y)] \\geq p_1$.\n",
    "2. If $d(x,y) \\geq d_2$ then $p_{h\\in H}[h(x)=h(y)] \\leq p_2$.\n",
    "\n",
    "For example, our family of randomly chosen hyperplanes is $(d_1, d_2, (1-d_1)/\\pi, (1-d_2)/\\pi)$-sensitive.\n",
    "\n",
    "Ideally, vectors should be placed into the same bin with a high probability if their distance is smaller than a threshold, and with a low probability if their distance is larger that the threshold. By combining hashing functions we can get closer to this ideal sensitivity.\n",
    "\n",
    "Given a family of hash functions $H$ with sensitivity $(d_1, d_2, p_1, p_2)$ we can construct a new family $H'$ by combining $r$ functions from $H$:\n",
    "1. AND: let $h=[h_1, h_2, \\ldots, h_r] \\in H'$ and $h(x)=h(y)$ if and only if $\\forall_i h_i(x)=h_i(y)$. Then $H'$ is $(d_1, d_2, (p_1)^r, (p_2)^r)$-sensitive.\n",
    "2. OR: let $h=[h_1, h_2, \\ldots, h_r] \\in H'$ and $h(x)=h(y)$ if and only if $\\exists_i h_i(x)=h_i(y)$. Then $H'$ is $(d_1, d_2, 1-(1-p_1)^r, 1-(1-p_2)^r)$-sensitive.\n",
    "\n",
    "AND makes all probabilities shrink, but properly choosing $r$ we can make the lower probability approach 0 while the higher does not. Conversely, OR makes all probabilities grow, we can make the upper probability approach 1 while the lower does not."
   ]
  },
  {
   "cell_type": "markdown",
   "metadata": {
    "id": "OutHmcfp8zLo"
   },
   "source": [
    "#### Problem 6 [1-3p bonus] \n",
    "\n",
    "1. **[1bp for exercises list]** **Note:** you can show sketches of proofs for this assignment.\n",
    "    1. Show that angle between vectors is a metric (https://en.wikipedia.org/wiki/Metric_(mathematics)).\n",
    "    \n",
    "    2. Show that $p_{h\\in H}[h(x)=h(y)] = 1 - \\frac{\\theta(x,y)}{\\pi}$ for $h$ computed using a randomly chosen hyperplane.\n",
    "\n",
    "    3. Show the properties of either AND or OR boosting of LSH.\n",
    "\n",
    "  Please show the solution to this problem dirung the Session for Homework 1, the bonus point will also be added to the points from Homework 1.\n",
    "\n",
    "3. **[1-3bp]** Reimplement k-Nearest Neighbors for MNIST classification using the cosine distance instead of the Euclidean distance. Choose a sensible value of $k$. Use Locality Sensitive Hashing to achieve an error rate no greater than $150\\%$ of the original error rate with at least a $90\\%$ speedup (i.e., by considering on average at most 5000 training samples per query image). For a few settings plot the speedup-vs-accuracy relation.\n",
    "\n",
    "  **Note:** points will be awarded based on ingenuity of your solution. Feel free to explore your own ideas!\n"
   ]
  },
  {
   "cell_type": "code",
   "execution_count": 28,
   "metadata": {
    "id": "TfDUaFvAXVO2"
   },
   "outputs": [
    {
     "name": "stdout",
     "output_type": "stream",
     "text": [
      "[5 0 4 ... 5 6 8]\n"
     ]
    },
    {
     "data": {
      "application/vnd.jupyter.widget-view+json": {
       "model_id": "71596b62db36439981d5c682aac3d79c",
       "version_major": 2,
       "version_minor": 0
      },
      "text/plain": [
       "HBox(children=(FloatProgress(value=1.0, bar_style='info', max=1.0), HTML(value='')))"
      ]
     },
     "metadata": {},
     "output_type": "display_data"
    },
    {
     "name": "stdout",
     "output_type": "stream",
     "text": [
      "\n",
      "created 10 buckets\n",
      "0 contains 4932 elements\n",
      "1 contains 5678 elements\n",
      "2 contains 4968 elements\n",
      "3 contains 5101 elements\n",
      "4 contains 4859 elements\n",
      "5 contains 4506 elements\n",
      "6 contains 4951 elements\n",
      "7 contains 5175 elements\n",
      "8 contains 4842 elements\n",
      "9 contains 4988 elements\n",
      "==========\n",
      "performing 555 on 10 classes. 55 per class\n",
      "performing 555 on 9 classes. 61 per class\n",
      "performing 555 on 8 classes. 69 per class\n",
      "performing 555 on 7 classes. 79 per class\n",
      "performing 555 on 6 classes. 92 per class\n",
      "performing 555 on 5 classes. 111 per class\n",
      "performing 555 on 4 classes. 138 per class\n",
      "performing 555 on 3 classes. 185 per class\n",
      "performing 555 on 2 classes. 277 per class\n",
      "finished with 4995 total comparisons\n"
     ]
    }
   ],
   "source": [
    "def genbucket(X_train, Y_train, verbose = False):\n",
    "    print(Y_train)\n",
    "    bucket = {}\n",
    "    for bn in list(set(Y_train)):\n",
    "        bucket[bn] = []\n",
    "        \n",
    "    for ex, ey in tqdm(zip(X_train, Y_train)):\n",
    "        bucket[ey].append(ex)\n",
    "    \n",
    "    if verbose:    \n",
    "        print(f\"created {len(bucket.keys())} buckets\")\n",
    "        for b in bucket.keys():\n",
    "            print(f\"{b} contains {len(bucket[b])} elements\")\n",
    "    return bucket\n",
    "    \n",
    "b = genbucket(\n",
    "    mnist_train_data_uint8,\n",
    "    mnist_full_train_labels_int64,\n",
    "    verbose=True\n",
    ")\n",
    "\n",
    "print(\"==========\")\n",
    "\n",
    "candidates = set(range(0, 10))\n",
    "\n",
    "total_tests = 5000\n",
    "total_iterations = 9\n",
    "tests_per_it = total_tests//total_iterations\n",
    "\n",
    "tests_commited = 0\n",
    "\n",
    "while(len(candidates) > 1):\n",
    "    print(f\"performing {tests_per_it} on {len(candidates)} classes. {tests_per_it//len(candidates)} per class\")\n",
    "    tests_commited += len(candidates) * tests_per_it//len(candidates)\n",
    "    candidates.remove(list(candidates)[0])\n",
    "    \n",
    "print(f\"finished with {tests_commited} total comparisons\")\n",
    "    "
   ]
  },
  {
   "cell_type": "markdown",
   "metadata": {},
   "source": []
  },
  {
   "cell_type": "code",
   "execution_count": null,
   "metadata": {},
   "outputs": [],
   "source": []
  },
  {
   "cell_type": "code",
   "execution_count": null,
   "metadata": {},
   "outputs": [],
   "source": []
  },
  {
   "cell_type": "code",
   "execution_count": null,
   "metadata": {},
   "outputs": [],
   "source": []
  }
 ],
 "metadata": {
  "colab": {
   "collapsed_sections": [],
   "include_colab_link": true,
   "name": "Assignment1.ipynb",
   "provenance": [],
   "toc_visible": true
  },
  "kernelspec": {
   "display_name": "Python 3",
   "language": "python",
   "name": "python3"
  },
  "language_info": {
   "codemirror_mode": {
    "name": "ipython",
    "version": 3
   },
   "file_extension": ".py",
   "mimetype": "text/x-python",
   "name": "python",
   "nbconvert_exporter": "python",
   "pygments_lexer": "ipython3",
   "version": "3.8.3"
  },
  "widgets": {
   "application/vnd.jupyter.widget-state+json": {
    "0bc10bee742b47e1b1b367aa8b6332b3": {
     "model_module": "@jupyter-widgets/base",
     "model_name": "LayoutModel",
     "state": {
      "_model_module": "@jupyter-widgets/base",
      "_model_module_version": "1.2.0",
      "_model_name": "LayoutModel",
      "_view_count": null,
      "_view_module": "@jupyter-widgets/base",
      "_view_module_version": "1.2.0",
      "_view_name": "LayoutView",
      "align_content": null,
      "align_items": null,
      "align_self": null,
      "border": null,
      "bottom": null,
      "display": null,
      "flex": null,
      "flex_flow": null,
      "grid_area": null,
      "grid_auto_columns": null,
      "grid_auto_flow": null,
      "grid_auto_rows": null,
      "grid_column": null,
      "grid_gap": null,
      "grid_row": null,
      "grid_template_areas": null,
      "grid_template_columns": null,
      "grid_template_rows": null,
      "height": null,
      "justify_content": null,
      "justify_items": null,
      "left": null,
      "margin": null,
      "max_height": null,
      "max_width": null,
      "min_height": null,
      "min_width": null,
      "object_fit": null,
      "object_position": null,
      "order": null,
      "overflow": null,
      "overflow_x": null,
      "overflow_y": null,
      "padding": null,
      "right": null,
      "top": null,
      "visibility": null,
      "width": null
     }
    },
    "29871ab8355d4d338fe8d17f4fad0a74": {
     "model_module": "@jupyter-widgets/controls",
     "model_name": "HTMLModel",
     "state": {
      "_dom_classes": [],
      "_model_module": "@jupyter-widgets/controls",
      "_model_module_version": "1.5.0",
      "_model_name": "HTMLModel",
      "_view_count": null,
      "_view_module": "@jupyter-widgets/controls",
      "_view_module_version": "1.5.0",
      "_view_name": "HTMLView",
      "description": "",
      "description_tooltip": null,
      "layout": "IPY_MODEL_7c16ef9daaed44d58e1c63cbdd5dfc4c",
      "placeholder": "​",
      "style": "IPY_MODEL_8bdcccb3493f487bbe6824c98e53938d",
      "value": " 100/100 [00:04&lt;00:00, 20.37it/s]"
     }
    },
    "373b9bc3337545648b43eb8f946e5a46": {
     "model_module": "@jupyter-widgets/controls",
     "model_name": "DescriptionStyleModel",
     "state": {
      "_model_module": "@jupyter-widgets/controls",
      "_model_module_version": "1.5.0",
      "_model_name": "DescriptionStyleModel",
      "_view_count": null,
      "_view_module": "@jupyter-widgets/base",
      "_view_module_version": "1.2.0",
      "_view_name": "StyleView",
      "description_width": ""
     }
    },
    "3faa15c3a61b499e8a756cb6bd89229d": {
     "model_module": "@jupyter-widgets/base",
     "model_name": "LayoutModel",
     "state": {
      "_model_module": "@jupyter-widgets/base",
      "_model_module_version": "1.2.0",
      "_model_name": "LayoutModel",
      "_view_count": null,
      "_view_module": "@jupyter-widgets/base",
      "_view_module_version": "1.2.0",
      "_view_name": "LayoutView",
      "align_content": null,
      "align_items": null,
      "align_self": null,
      "border": null,
      "bottom": null,
      "display": null,
      "flex": null,
      "flex_flow": null,
      "grid_area": null,
      "grid_auto_columns": null,
      "grid_auto_flow": null,
      "grid_auto_rows": null,
      "grid_column": null,
      "grid_gap": null,
      "grid_row": null,
      "grid_template_areas": null,
      "grid_template_columns": null,
      "grid_template_rows": null,
      "height": null,
      "justify_content": null,
      "justify_items": null,
      "left": null,
      "margin": null,
      "max_height": null,
      "max_width": null,
      "min_height": null,
      "min_width": null,
      "object_fit": null,
      "object_position": null,
      "order": null,
      "overflow": null,
      "overflow_x": null,
      "overflow_y": null,
      "padding": null,
      "right": null,
      "top": null,
      "visibility": null,
      "width": null
     }
    },
    "4093b23368614ded876709b26bdbb60e": {
     "model_module": "@jupyter-widgets/base",
     "model_name": "LayoutModel",
     "state": {
      "_model_module": "@jupyter-widgets/base",
      "_model_module_version": "1.2.0",
      "_model_name": "LayoutModel",
      "_view_count": null,
      "_view_module": "@jupyter-widgets/base",
      "_view_module_version": "1.2.0",
      "_view_name": "LayoutView",
      "align_content": null,
      "align_items": null,
      "align_self": null,
      "border": null,
      "bottom": null,
      "display": null,
      "flex": null,
      "flex_flow": null,
      "grid_area": null,
      "grid_auto_columns": null,
      "grid_auto_flow": null,
      "grid_auto_rows": null,
      "grid_column": null,
      "grid_gap": null,
      "grid_row": null,
      "grid_template_areas": null,
      "grid_template_columns": null,
      "grid_template_rows": null,
      "height": null,
      "justify_content": null,
      "justify_items": null,
      "left": null,
      "margin": null,
      "max_height": null,
      "max_width": null,
      "min_height": null,
      "min_width": null,
      "object_fit": null,
      "object_position": null,
      "order": null,
      "overflow": null,
      "overflow_x": null,
      "overflow_y": null,
      "padding": null,
      "right": null,
      "top": null,
      "visibility": null,
      "width": null
     }
    },
    "50c0a9facce24760ab6e2ffba4c2552f": {
     "model_module": "@jupyter-widgets/base",
     "model_name": "LayoutModel",
     "state": {
      "_model_module": "@jupyter-widgets/base",
      "_model_module_version": "1.2.0",
      "_model_name": "LayoutModel",
      "_view_count": null,
      "_view_module": "@jupyter-widgets/base",
      "_view_module_version": "1.2.0",
      "_view_name": "LayoutView",
      "align_content": null,
      "align_items": null,
      "align_self": null,
      "border": null,
      "bottom": null,
      "display": null,
      "flex": null,
      "flex_flow": null,
      "grid_area": null,
      "grid_auto_columns": null,
      "grid_auto_flow": null,
      "grid_auto_rows": null,
      "grid_column": null,
      "grid_gap": null,
      "grid_row": null,
      "grid_template_areas": null,
      "grid_template_columns": null,
      "grid_template_rows": null,
      "height": null,
      "justify_content": null,
      "justify_items": null,
      "left": null,
      "margin": null,
      "max_height": null,
      "max_width": null,
      "min_height": null,
      "min_width": null,
      "object_fit": null,
      "object_position": null,
      "order": null,
      "overflow": null,
      "overflow_x": null,
      "overflow_y": null,
      "padding": null,
      "right": null,
      "top": null,
      "visibility": null,
      "width": null
     }
    },
    "59849e92f6a746cd866d73c77290b666": {
     "model_module": "@jupyter-widgets/controls",
     "model_name": "ProgressStyleModel",
     "state": {
      "_model_module": "@jupyter-widgets/controls",
      "_model_module_version": "1.5.0",
      "_model_name": "ProgressStyleModel",
      "_view_count": null,
      "_view_module": "@jupyter-widgets/base",
      "_view_module_version": "1.2.0",
      "_view_name": "StyleView",
      "bar_color": null,
      "description_width": "initial"
     }
    },
    "5db9f73f2592401896abc179ad205929": {
     "model_module": "@jupyter-widgets/controls",
     "model_name": "HTMLModel",
     "state": {
      "_dom_classes": [],
      "_model_module": "@jupyter-widgets/controls",
      "_model_module_version": "1.5.0",
      "_model_name": "HTMLModel",
      "_view_count": null,
      "_view_module": "@jupyter-widgets/controls",
      "_view_module_version": "1.5.0",
      "_view_name": "HTMLView",
      "description": "",
      "description_tooltip": null,
      "layout": "IPY_MODEL_3faa15c3a61b499e8a756cb6bd89229d",
      "placeholder": "​",
      "style": "IPY_MODEL_cf366d9ec2144ba1a0a0787369215807",
      "value": " 50/50 [01:36&lt;00:00,  1.93s/it]"
     }
    },
    "67ccbb3575384056920db7ae366ddb9f": {
     "model_module": "@jupyter-widgets/controls",
     "model_name": "ProgressStyleModel",
     "state": {
      "_model_module": "@jupyter-widgets/controls",
      "_model_module_version": "1.5.0",
      "_model_name": "ProgressStyleModel",
      "_view_count": null,
      "_view_module": "@jupyter-widgets/base",
      "_view_module_version": "1.2.0",
      "_view_name": "StyleView",
      "bar_color": null,
      "description_width": "initial"
     }
    },
    "748dd8a0e1da49f88e6c1eab93a3c1d7": {
     "model_module": "@jupyter-widgets/controls",
     "model_name": "HBoxModel",
     "state": {
      "_dom_classes": [],
      "_model_module": "@jupyter-widgets/controls",
      "_model_module_version": "1.5.0",
      "_model_name": "HBoxModel",
      "_view_count": null,
      "_view_module": "@jupyter-widgets/controls",
      "_view_module_version": "1.5.0",
      "_view_name": "HBoxView",
      "box_style": "",
      "children": [
       "IPY_MODEL_c39655187b744b55a3a2f83652a1df01",
       "IPY_MODEL_95c8e06fe48c40d5825b2d923de456a6"
      ],
      "layout": "IPY_MODEL_7f3bec5c96424eacb616ceff17aab6be"
     }
    },
    "753286544eb342998488bbc51679f612": {
     "model_module": "@jupyter-widgets/controls",
     "model_name": "FloatProgressModel",
     "state": {
      "_dom_classes": [],
      "_model_module": "@jupyter-widgets/controls",
      "_model_module_version": "1.5.0",
      "_model_name": "FloatProgressModel",
      "_view_count": null,
      "_view_module": "@jupyter-widgets/controls",
      "_view_module_version": "1.5.0",
      "_view_name": "ProgressView",
      "bar_style": "success",
      "description": "100%",
      "description_tooltip": null,
      "layout": "IPY_MODEL_50c0a9facce24760ab6e2ffba4c2552f",
      "max": 50,
      "min": 0,
      "orientation": "horizontal",
      "style": "IPY_MODEL_adf55fa7aa494e5eb49496152820f059",
      "value": 50
     }
    },
    "77a2d1de076d46878b3fd598fc4720bf": {
     "model_module": "@jupyter-widgets/controls",
     "model_name": "FloatProgressModel",
     "state": {
      "_dom_classes": [],
      "_model_module": "@jupyter-widgets/controls",
      "_model_module_version": "1.5.0",
      "_model_name": "FloatProgressModel",
      "_view_count": null,
      "_view_module": "@jupyter-widgets/controls",
      "_view_module_version": "1.5.0",
      "_view_name": "ProgressView",
      "bar_style": "success",
      "description": "100%",
      "description_tooltip": null,
      "layout": "IPY_MODEL_d1d009fc60794726ba78ba5fc0c8b784",
      "max": 1000,
      "min": 0,
      "orientation": "horizontal",
      "style": "IPY_MODEL_d5e85576669a4c29a09723d03bb248a4",
      "value": 1000
     }
    },
    "7c16ef9daaed44d58e1c63cbdd5dfc4c": {
     "model_module": "@jupyter-widgets/base",
     "model_name": "LayoutModel",
     "state": {
      "_model_module": "@jupyter-widgets/base",
      "_model_module_version": "1.2.0",
      "_model_name": "LayoutModel",
      "_view_count": null,
      "_view_module": "@jupyter-widgets/base",
      "_view_module_version": "1.2.0",
      "_view_name": "LayoutView",
      "align_content": null,
      "align_items": null,
      "align_self": null,
      "border": null,
      "bottom": null,
      "display": null,
      "flex": null,
      "flex_flow": null,
      "grid_area": null,
      "grid_auto_columns": null,
      "grid_auto_flow": null,
      "grid_auto_rows": null,
      "grid_column": null,
      "grid_gap": null,
      "grid_row": null,
      "grid_template_areas": null,
      "grid_template_columns": null,
      "grid_template_rows": null,
      "height": null,
      "justify_content": null,
      "justify_items": null,
      "left": null,
      "margin": null,
      "max_height": null,
      "max_width": null,
      "min_height": null,
      "min_width": null,
      "object_fit": null,
      "object_position": null,
      "order": null,
      "overflow": null,
      "overflow_x": null,
      "overflow_y": null,
      "padding": null,
      "right": null,
      "top": null,
      "visibility": null,
      "width": null
     }
    },
    "7f3bec5c96424eacb616ceff17aab6be": {
     "model_module": "@jupyter-widgets/base",
     "model_name": "LayoutModel",
     "state": {
      "_model_module": "@jupyter-widgets/base",
      "_model_module_version": "1.2.0",
      "_model_name": "LayoutModel",
      "_view_count": null,
      "_view_module": "@jupyter-widgets/base",
      "_view_module_version": "1.2.0",
      "_view_name": "LayoutView",
      "align_content": null,
      "align_items": null,
      "align_self": null,
      "border": null,
      "bottom": null,
      "display": null,
      "flex": null,
      "flex_flow": null,
      "grid_area": null,
      "grid_auto_columns": null,
      "grid_auto_flow": null,
      "grid_auto_rows": null,
      "grid_column": null,
      "grid_gap": null,
      "grid_row": null,
      "grid_template_areas": null,
      "grid_template_columns": null,
      "grid_template_rows": null,
      "height": null,
      "justify_content": null,
      "justify_items": null,
      "left": null,
      "margin": null,
      "max_height": null,
      "max_width": null,
      "min_height": null,
      "min_width": null,
      "object_fit": null,
      "object_position": null,
      "order": null,
      "overflow": null,
      "overflow_x": null,
      "overflow_y": null,
      "padding": null,
      "right": null,
      "top": null,
      "visibility": null,
      "width": null
     }
    },
    "8bdcccb3493f487bbe6824c98e53938d": {
     "model_module": "@jupyter-widgets/controls",
     "model_name": "DescriptionStyleModel",
     "state": {
      "_model_module": "@jupyter-widgets/controls",
      "_model_module_version": "1.5.0",
      "_model_name": "DescriptionStyleModel",
      "_view_count": null,
      "_view_module": "@jupyter-widgets/base",
      "_view_module_version": "1.2.0",
      "_view_name": "StyleView",
      "description_width": ""
     }
    },
    "8e2a6677c3c141b797abdb4feba684dc": {
     "model_module": "@jupyter-widgets/base",
     "model_name": "LayoutModel",
     "state": {
      "_model_module": "@jupyter-widgets/base",
      "_model_module_version": "1.2.0",
      "_model_name": "LayoutModel",
      "_view_count": null,
      "_view_module": "@jupyter-widgets/base",
      "_view_module_version": "1.2.0",
      "_view_name": "LayoutView",
      "align_content": null,
      "align_items": null,
      "align_self": null,
      "border": null,
      "bottom": null,
      "display": null,
      "flex": null,
      "flex_flow": null,
      "grid_area": null,
      "grid_auto_columns": null,
      "grid_auto_flow": null,
      "grid_auto_rows": null,
      "grid_column": null,
      "grid_gap": null,
      "grid_row": null,
      "grid_template_areas": null,
      "grid_template_columns": null,
      "grid_template_rows": null,
      "height": null,
      "justify_content": null,
      "justify_items": null,
      "left": null,
      "margin": null,
      "max_height": null,
      "max_width": null,
      "min_height": null,
      "min_width": null,
      "object_fit": null,
      "object_position": null,
      "order": null,
      "overflow": null,
      "overflow_x": null,
      "overflow_y": null,
      "padding": null,
      "right": null,
      "top": null,
      "visibility": null,
      "width": null
     }
    },
    "95c8e06fe48c40d5825b2d923de456a6": {
     "model_module": "@jupyter-widgets/controls",
     "model_name": "HTMLModel",
     "state": {
      "_dom_classes": [],
      "_model_module": "@jupyter-widgets/controls",
      "_model_module_version": "1.5.0",
      "_model_name": "HTMLModel",
      "_view_count": null,
      "_view_module": "@jupyter-widgets/controls",
      "_view_module_version": "1.5.0",
      "_view_name": "HTMLView",
      "description": "",
      "description_tooltip": null,
      "layout": "IPY_MODEL_97206dd254b84e1482c72c92e141cd87",
      "placeholder": "​",
      "style": "IPY_MODEL_dee9ce56a6e7422eaea91ecc019c174c",
      "value": " 50/50 [01:20&lt;00:00,  1.61s/it]"
     }
    },
    "97206dd254b84e1482c72c92e141cd87": {
     "model_module": "@jupyter-widgets/base",
     "model_name": "LayoutModel",
     "state": {
      "_model_module": "@jupyter-widgets/base",
      "_model_module_version": "1.2.0",
      "_model_name": "LayoutModel",
      "_view_count": null,
      "_view_module": "@jupyter-widgets/base",
      "_view_module_version": "1.2.0",
      "_view_name": "LayoutView",
      "align_content": null,
      "align_items": null,
      "align_self": null,
      "border": null,
      "bottom": null,
      "display": null,
      "flex": null,
      "flex_flow": null,
      "grid_area": null,
      "grid_auto_columns": null,
      "grid_auto_flow": null,
      "grid_auto_rows": null,
      "grid_column": null,
      "grid_gap": null,
      "grid_row": null,
      "grid_template_areas": null,
      "grid_template_columns": null,
      "grid_template_rows": null,
      "height": null,
      "justify_content": null,
      "justify_items": null,
      "left": null,
      "margin": null,
      "max_height": null,
      "max_width": null,
      "min_height": null,
      "min_width": null,
      "object_fit": null,
      "object_position": null,
      "order": null,
      "overflow": null,
      "overflow_x": null,
      "overflow_y": null,
      "padding": null,
      "right": null,
      "top": null,
      "visibility": null,
      "width": null
     }
    },
    "979ad871a0b54ab186436193795eeded": {
     "model_module": "@jupyter-widgets/controls",
     "model_name": "HBoxModel",
     "state": {
      "_dom_classes": [],
      "_model_module": "@jupyter-widgets/controls",
      "_model_module_version": "1.5.0",
      "_model_name": "HBoxModel",
      "_view_count": null,
      "_view_module": "@jupyter-widgets/controls",
      "_view_module_version": "1.5.0",
      "_view_name": "HBoxView",
      "box_style": "",
      "children": [
       "IPY_MODEL_77a2d1de076d46878b3fd598fc4720bf",
       "IPY_MODEL_ac1dab16d5d04403a27ee242c5147a90"
      ],
      "layout": "IPY_MODEL_8e2a6677c3c141b797abdb4feba684dc"
     }
    },
    "a6c9c0c60ee24f21a215205c6246267e": {
     "model_module": "@jupyter-widgets/controls",
     "model_name": "FloatProgressModel",
     "state": {
      "_dom_classes": [],
      "_model_module": "@jupyter-widgets/controls",
      "_model_module_version": "1.5.0",
      "_model_name": "FloatProgressModel",
      "_view_count": null,
      "_view_module": "@jupyter-widgets/controls",
      "_view_module_version": "1.5.0",
      "_view_name": "ProgressView",
      "bar_style": "success",
      "description": "100%",
      "description_tooltip": null,
      "layout": "IPY_MODEL_0bc10bee742b47e1b1b367aa8b6332b3",
      "max": 100,
      "min": 0,
      "orientation": "horizontal",
      "style": "IPY_MODEL_59849e92f6a746cd866d73c77290b666",
      "value": 100
     }
    },
    "ac1dab16d5d04403a27ee242c5147a90": {
     "model_module": "@jupyter-widgets/controls",
     "model_name": "HTMLModel",
     "state": {
      "_dom_classes": [],
      "_model_module": "@jupyter-widgets/controls",
      "_model_module_version": "1.5.0",
      "_model_name": "HTMLModel",
      "_view_count": null,
      "_view_module": "@jupyter-widgets/controls",
      "_view_module_version": "1.5.0",
      "_view_name": "HTMLView",
      "description": "",
      "description_tooltip": null,
      "layout": "IPY_MODEL_4093b23368614ded876709b26bdbb60e",
      "placeholder": "​",
      "style": "IPY_MODEL_373b9bc3337545648b43eb8f946e5a46",
      "value": " 1000/1000 [00:30&lt;00:00, 32.64it/s]"
     }
    },
    "adf55fa7aa494e5eb49496152820f059": {
     "model_module": "@jupyter-widgets/controls",
     "model_name": "ProgressStyleModel",
     "state": {
      "_model_module": "@jupyter-widgets/controls",
      "_model_module_version": "1.5.0",
      "_model_name": "ProgressStyleModel",
      "_view_count": null,
      "_view_module": "@jupyter-widgets/base",
      "_view_module_version": "1.2.0",
      "_view_name": "StyleView",
      "bar_color": null,
      "description_width": "initial"
     }
    },
    "b215168ae6944e7b9eb0472485d6ac7c": {
     "model_module": "@jupyter-widgets/controls",
     "model_name": "HBoxModel",
     "state": {
      "_dom_classes": [],
      "_model_module": "@jupyter-widgets/controls",
      "_model_module_version": "1.5.0",
      "_model_name": "HBoxModel",
      "_view_count": null,
      "_view_module": "@jupyter-widgets/controls",
      "_view_module_version": "1.5.0",
      "_view_name": "HBoxView",
      "box_style": "",
      "children": [
       "IPY_MODEL_a6c9c0c60ee24f21a215205c6246267e",
       "IPY_MODEL_29871ab8355d4d338fe8d17f4fad0a74"
      ],
      "layout": "IPY_MODEL_cd2702e9872d4a47b496e2fb4a86f9d8"
     }
    },
    "c39655187b744b55a3a2f83652a1df01": {
     "model_module": "@jupyter-widgets/controls",
     "model_name": "FloatProgressModel",
     "state": {
      "_dom_classes": [],
      "_model_module": "@jupyter-widgets/controls",
      "_model_module_version": "1.5.0",
      "_model_name": "FloatProgressModel",
      "_view_count": null,
      "_view_module": "@jupyter-widgets/controls",
      "_view_module_version": "1.5.0",
      "_view_name": "ProgressView",
      "bar_style": "success",
      "description": "100%",
      "description_tooltip": null,
      "layout": "IPY_MODEL_fba0dacd9d6443eba306b954040097bd",
      "max": 50,
      "min": 0,
      "orientation": "horizontal",
      "style": "IPY_MODEL_67ccbb3575384056920db7ae366ddb9f",
      "value": 50
     }
    },
    "c43cb6db2c23406d8990223c01b9dd7b": {
     "model_module": "@jupyter-widgets/base",
     "model_name": "LayoutModel",
     "state": {
      "_model_module": "@jupyter-widgets/base",
      "_model_module_version": "1.2.0",
      "_model_name": "LayoutModel",
      "_view_count": null,
      "_view_module": "@jupyter-widgets/base",
      "_view_module_version": "1.2.0",
      "_view_name": "LayoutView",
      "align_content": null,
      "align_items": null,
      "align_self": null,
      "border": null,
      "bottom": null,
      "display": null,
      "flex": null,
      "flex_flow": null,
      "grid_area": null,
      "grid_auto_columns": null,
      "grid_auto_flow": null,
      "grid_auto_rows": null,
      "grid_column": null,
      "grid_gap": null,
      "grid_row": null,
      "grid_template_areas": null,
      "grid_template_columns": null,
      "grid_template_rows": null,
      "height": null,
      "justify_content": null,
      "justify_items": null,
      "left": null,
      "margin": null,
      "max_height": null,
      "max_width": null,
      "min_height": null,
      "min_width": null,
      "object_fit": null,
      "object_position": null,
      "order": null,
      "overflow": null,
      "overflow_x": null,
      "overflow_y": null,
      "padding": null,
      "right": null,
      "top": null,
      "visibility": null,
      "width": null
     }
    },
    "cd2702e9872d4a47b496e2fb4a86f9d8": {
     "model_module": "@jupyter-widgets/base",
     "model_name": "LayoutModel",
     "state": {
      "_model_module": "@jupyter-widgets/base",
      "_model_module_version": "1.2.0",
      "_model_name": "LayoutModel",
      "_view_count": null,
      "_view_module": "@jupyter-widgets/base",
      "_view_module_version": "1.2.0",
      "_view_name": "LayoutView",
      "align_content": null,
      "align_items": null,
      "align_self": null,
      "border": null,
      "bottom": null,
      "display": null,
      "flex": null,
      "flex_flow": null,
      "grid_area": null,
      "grid_auto_columns": null,
      "grid_auto_flow": null,
      "grid_auto_rows": null,
      "grid_column": null,
      "grid_gap": null,
      "grid_row": null,
      "grid_template_areas": null,
      "grid_template_columns": null,
      "grid_template_rows": null,
      "height": null,
      "justify_content": null,
      "justify_items": null,
      "left": null,
      "margin": null,
      "max_height": null,
      "max_width": null,
      "min_height": null,
      "min_width": null,
      "object_fit": null,
      "object_position": null,
      "order": null,
      "overflow": null,
      "overflow_x": null,
      "overflow_y": null,
      "padding": null,
      "right": null,
      "top": null,
      "visibility": null,
      "width": null
     }
    },
    "cf366d9ec2144ba1a0a0787369215807": {
     "model_module": "@jupyter-widgets/controls",
     "model_name": "DescriptionStyleModel",
     "state": {
      "_model_module": "@jupyter-widgets/controls",
      "_model_module_version": "1.5.0",
      "_model_name": "DescriptionStyleModel",
      "_view_count": null,
      "_view_module": "@jupyter-widgets/base",
      "_view_module_version": "1.2.0",
      "_view_name": "StyleView",
      "description_width": ""
     }
    },
    "d1d009fc60794726ba78ba5fc0c8b784": {
     "model_module": "@jupyter-widgets/base",
     "model_name": "LayoutModel",
     "state": {
      "_model_module": "@jupyter-widgets/base",
      "_model_module_version": "1.2.0",
      "_model_name": "LayoutModel",
      "_view_count": null,
      "_view_module": "@jupyter-widgets/base",
      "_view_module_version": "1.2.0",
      "_view_name": "LayoutView",
      "align_content": null,
      "align_items": null,
      "align_self": null,
      "border": null,
      "bottom": null,
      "display": null,
      "flex": null,
      "flex_flow": null,
      "grid_area": null,
      "grid_auto_columns": null,
      "grid_auto_flow": null,
      "grid_auto_rows": null,
      "grid_column": null,
      "grid_gap": null,
      "grid_row": null,
      "grid_template_areas": null,
      "grid_template_columns": null,
      "grid_template_rows": null,
      "height": null,
      "justify_content": null,
      "justify_items": null,
      "left": null,
      "margin": null,
      "max_height": null,
      "max_width": null,
      "min_height": null,
      "min_width": null,
      "object_fit": null,
      "object_position": null,
      "order": null,
      "overflow": null,
      "overflow_x": null,
      "overflow_y": null,
      "padding": null,
      "right": null,
      "top": null,
      "visibility": null,
      "width": null
     }
    },
    "d5e85576669a4c29a09723d03bb248a4": {
     "model_module": "@jupyter-widgets/controls",
     "model_name": "ProgressStyleModel",
     "state": {
      "_model_module": "@jupyter-widgets/controls",
      "_model_module_version": "1.5.0",
      "_model_name": "ProgressStyleModel",
      "_view_count": null,
      "_view_module": "@jupyter-widgets/base",
      "_view_module_version": "1.2.0",
      "_view_name": "StyleView",
      "bar_color": null,
      "description_width": "initial"
     }
    },
    "dee9ce56a6e7422eaea91ecc019c174c": {
     "model_module": "@jupyter-widgets/controls",
     "model_name": "DescriptionStyleModel",
     "state": {
      "_model_module": "@jupyter-widgets/controls",
      "_model_module_version": "1.5.0",
      "_model_name": "DescriptionStyleModel",
      "_view_count": null,
      "_view_module": "@jupyter-widgets/base",
      "_view_module_version": "1.2.0",
      "_view_name": "StyleView",
      "description_width": ""
     }
    },
    "f5104d0fdb3f4f3892cffd2ac32ebaab": {
     "model_module": "@jupyter-widgets/controls",
     "model_name": "HBoxModel",
     "state": {
      "_dom_classes": [],
      "_model_module": "@jupyter-widgets/controls",
      "_model_module_version": "1.5.0",
      "_model_name": "HBoxModel",
      "_view_count": null,
      "_view_module": "@jupyter-widgets/controls",
      "_view_module_version": "1.5.0",
      "_view_name": "HBoxView",
      "box_style": "",
      "children": [
       "IPY_MODEL_753286544eb342998488bbc51679f612",
       "IPY_MODEL_5db9f73f2592401896abc179ad205929"
      ],
      "layout": "IPY_MODEL_c43cb6db2c23406d8990223c01b9dd7b"
     }
    },
    "fba0dacd9d6443eba306b954040097bd": {
     "model_module": "@jupyter-widgets/base",
     "model_name": "LayoutModel",
     "state": {
      "_model_module": "@jupyter-widgets/base",
      "_model_module_version": "1.2.0",
      "_model_name": "LayoutModel",
      "_view_count": null,
      "_view_module": "@jupyter-widgets/base",
      "_view_module_version": "1.2.0",
      "_view_name": "LayoutView",
      "align_content": null,
      "align_items": null,
      "align_self": null,
      "border": null,
      "bottom": null,
      "display": null,
      "flex": null,
      "flex_flow": null,
      "grid_area": null,
      "grid_auto_columns": null,
      "grid_auto_flow": null,
      "grid_auto_rows": null,
      "grid_column": null,
      "grid_gap": null,
      "grid_row": null,
      "grid_template_areas": null,
      "grid_template_columns": null,
      "grid_template_rows": null,
      "height": null,
      "justify_content": null,
      "justify_items": null,
      "left": null,
      "margin": null,
      "max_height": null,
      "max_width": null,
      "min_height": null,
      "min_width": null,
      "object_fit": null,
      "object_position": null,
      "order": null,
      "overflow": null,
      "overflow_x": null,
      "overflow_y": null,
      "padding": null,
      "right": null,
      "top": null,
      "visibility": null,
      "width": null
     }
    }
   }
  }
 },
 "nbformat": 4,
 "nbformat_minor": 1
}
