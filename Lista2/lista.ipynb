{
 "cells": [
  {
   "cell_type": "markdown",
   "metadata": {
    "id": "6JGmPStV4yiw"
   },
   "source": [
    "# Lab Assignment 2"
   ]
  },
  {
   "cell_type": "markdown",
   "metadata": {
    "id": "aUenJ9L141My"
   },
   "source": [
    "**Submission deadline:**\n",
    "* **Regular problems: last lab session before Friday, 6.11.20**\n",
    "* **Bonus problems: deadline for Lab Assignment 3**\n",
    "\n",
    "**Points: 12 + 3-6 bonus points**\n",
    "\n",
    "Please note: some of the assignments are tedious or boring if you are already a NumPy ninja. The bonus problems were designed to give you a more satisfying alternative.\n",
    "\n",
    "The assignment is in the form of a Jupyter notebook. We will be using [Google Colab](https://colab.research.google.com) to solve it. Below you will find a \"Setup\" section. Follow instructions from this paragraph to download the notebook and open it using [Google Colab](https://colab.research.google.com). \n",
    "\n",
    "Your goal is to solve problems posted below. Whenever possible, add your solutions to the notebook.\n",
    "\n",
    "Please email us about any problems with it - we will try to correct them quickly. Also, please do not hesitate to use GitHub’s pull requests to send us corrections!"
   ]
  },
  {
   "cell_type": "markdown",
   "metadata": {
    "id": "ZJXAnzVN2fgh"
   },
   "source": [
    "## Heads Up!\n",
    "\n",
    "This assignment comes with starter code, but you are not forced to use it, as long as you execute all analysis demanded in the problems."
   ]
  },
  {
   "cell_type": "code",
   "execution_count": 1,
   "metadata": {
    "id": "NsnbuW1uzVcC"
   },
   "outputs": [
    {
     "name": "stdout",
     "output_type": "stream",
     "text": [
      "\u001b[33mWARNING: You are using pip version 20.0.2; however, version 20.2.4 is available.\r\n",
      "You should consider upgrading via the '/home/zbigniew/Devel/UWR/ML2020/MLvirtualenv/bin/python -m pip install --upgrade pip' command.\u001b[0m\r\n"
     ]
    }
   ],
   "source": [
    "# Please note that this code needs only to be run in a fresh runtime.\n",
    "# However, it can be rerun afterwards too.\n",
    "!pip install -q gdown httpimport"
   ]
  },
  {
   "cell_type": "code",
   "execution_count": 2,
   "metadata": {
    "id": "a4TIgG0bwlpS"
   },
   "outputs": [],
   "source": [
    "# Standard IPython notebook imports\n",
    "import itertools\n",
    "import io\n",
    "import os\n",
    "\n",
    "import math\n",
    "import matplotlib.pyplot as plt\n",
    "import numpy as np\n",
    "import pandas as pd\n",
    "import scipy.optimize as sopt\n",
    "import scipy.stats as sstats\n",
    "import seaborn as sns\n",
    "import sklearn.ensemble\n",
    "import sklearn.tree\n",
    "from sklearn import datasets\n",
    "from tqdm.auto import tqdm\n",
    "\n",
    "#import graphviz\n",
    "import httpimport\n",
    "\n",
    "# In this way we can import functions straight from github\n",
    "with httpimport.github_repo(\n",
    "    \"janchorowski\", \"nn_assignments\", module=\"common\", branch=\"nn18\"\n",
    "):\n",
    "    from common.gradients import check_gradient\n",
    "    from common.plotting import plot_mat\n",
    "\n",
    "sns.set_style(\"whitegrid\")"
   ]
  },
  {
   "cell_type": "markdown",
   "metadata": {
    "id": "a7qCaa3LRuzJ"
   },
   "source": [
    "# Problem 1 [2p] Naive Bayes Classifier\n",
    "\n",
    "The Bayes' theorem allows us to construct a classifier in which we\n",
    "model how the data is generated. Here we will describe a\n",
    "simple and popular example of such a classifier called the naive\n",
    "Bayes classifier.  Despite its simplicity It is quite effective for\n",
    "classification of text documents (e.g. as spam and non-spam).\n",
    "\n",
    "Let a document be a sequence of tokens, which usually are words, but can also be characters: $D=W_1,W_2,\\ldots,W_n$ \n",
    "We will model generation of text documents as a two-stage process.\n",
    "First, document category $C_j$ is drawn at random with probability\n",
    "$p(C_j)$, also called the *a priori* probability.\n",
    "To define the class-conditional probability\n",
    "$p(D|C_j)$, we will make a simplifying (naive)\n",
    "assumption, that every token in the document is drawn independently at\n",
    "random with probability $p(W_i|C)$:\n",
    "\n",
    "\\begin{equation*}\n",
    "p(D|C_j) = p(W_1,W_2,\\ldots,W_n | C_j) \\approx p(W_1|C_j)p(W_2|C_j)\\ldots p(W_n|C_j).\n",
    "\\end{equation*}\n",
    "\n",
    "To infer the class of a document we apply the Bayes theorem:\n",
    "\\begin{equation*}\n",
    "p(C_j|D) = \\frac{p(D|C_j)p(C_j)}{p(D)} = \\frac{p(C_j)p(W_1|C_j)p(W_2|C_j)\\ldots p(W_n|C_j)}{p(D)}.\n",
    "\\end{equation*}\n",
    "Please note that since we assumed only a finite number of classes,\n",
    "we can compute the term $p(D)$ by making sure that the *a\n",
    "posteriori probabilities* $p(C_j|D)$ sum to $1$ over all classes.\n",
    "\n",
    "In this exercise we will try to mimic the language-guessing feature\n",
    "of [Google Translate](https://translate.google.com/), although\n",
    "on a much smaller scale.  We are given an input which is a\n",
    "lower-case sequence of characters (such as *\"some people like\n",
    "pineapple on their pizza\"*), and we determine whether the\n",
    "sequence's language is English, Polish or Spanish.\n",
    "We will treat each character as a separate observation.\n",
    "The numbers are taken from [Wikipedia article on letter frequency](https://en.wikipedia.org/wiki/Letter_frequency#Relative_frequencies_of_letters_in_other_languages). We display the first few rows:"
   ]
  },
  {
   "cell_type": "code",
   "execution_count": 3,
   "metadata": {
    "colab": {
     "base_uri": "https://localhost:8080/",
     "height": 204
    },
    "executionInfo": {
     "elapsed": 6550,
     "status": "ok",
     "timestamp": 1603379296947,
     "user": {
      "displayName": "Jan Chorowski",
      "photoUrl": "https://lh3.googleusercontent.com/a-/AOh14GiqjVlbW0luD6bn2f_qryOD2Z2a5Wrer8PyDHk9RA=s64",
      "userId": "18100051538790809279"
     },
     "user_tz": -120
    },
    "id": "N-8g1QuNbIfs",
    "outputId": "5b290e79-b838-482e-c374-d14d09ce78db"
   },
   "outputs": [
    {
     "data": {
      "text/html": [
       "<div>\n",
       "<style scoped>\n",
       "    .dataframe tbody tr th:only-of-type {\n",
       "        vertical-align: middle;\n",
       "    }\n",
       "\n",
       "    .dataframe tbody tr th {\n",
       "        vertical-align: top;\n",
       "    }\n",
       "\n",
       "    .dataframe thead th {\n",
       "        text-align: right;\n",
       "    }\n",
       "</style>\n",
       "<table border=\"1\" class=\"dataframe\">\n",
       "  <thead>\n",
       "    <tr style=\"text-align: right;\">\n",
       "      <th></th>\n",
       "      <th>English</th>\n",
       "      <th>French</th>\n",
       "      <th>German</th>\n",
       "      <th>Spanish</th>\n",
       "      <th>Portuguese</th>\n",
       "      <th>Esperanto</th>\n",
       "      <th>Italian</th>\n",
       "      <th>Turkish</th>\n",
       "      <th>Swedish</th>\n",
       "      <th>Polish</th>\n",
       "      <th>Dutch</th>\n",
       "      <th>Danish</th>\n",
       "      <th>Icelandic</th>\n",
       "      <th>Finnish</th>\n",
       "      <th>Czech</th>\n",
       "    </tr>\n",
       "  </thead>\n",
       "  <tbody>\n",
       "    <tr>\n",
       "      <th>a</th>\n",
       "      <td>8.167</td>\n",
       "      <td>7.636</td>\n",
       "      <td>6.516</td>\n",
       "      <td>11.525</td>\n",
       "      <td>14.634</td>\n",
       "      <td>12.117</td>\n",
       "      <td>11.745</td>\n",
       "      <td>12.920</td>\n",
       "      <td>9.383</td>\n",
       "      <td>10.503</td>\n",
       "      <td>7.486</td>\n",
       "      <td>6.025</td>\n",
       "      <td>10.110</td>\n",
       "      <td>12.217</td>\n",
       "      <td>8.421</td>\n",
       "    </tr>\n",
       "    <tr>\n",
       "      <th>b</th>\n",
       "      <td>1.492</td>\n",
       "      <td>0.901</td>\n",
       "      <td>1.886</td>\n",
       "      <td>2.215</td>\n",
       "      <td>1.043</td>\n",
       "      <td>0.980</td>\n",
       "      <td>0.927</td>\n",
       "      <td>2.844</td>\n",
       "      <td>1.535</td>\n",
       "      <td>1.740</td>\n",
       "      <td>1.584</td>\n",
       "      <td>2.000</td>\n",
       "      <td>1.043</td>\n",
       "      <td>0.281</td>\n",
       "      <td>0.822</td>\n",
       "    </tr>\n",
       "    <tr>\n",
       "      <th>c</th>\n",
       "      <td>2.782</td>\n",
       "      <td>3.260</td>\n",
       "      <td>2.732</td>\n",
       "      <td>4.019</td>\n",
       "      <td>3.882</td>\n",
       "      <td>0.776</td>\n",
       "      <td>4.501</td>\n",
       "      <td>1.463</td>\n",
       "      <td>1.486</td>\n",
       "      <td>3.895</td>\n",
       "      <td>1.242</td>\n",
       "      <td>0.565</td>\n",
       "      <td>0.000</td>\n",
       "      <td>0.281</td>\n",
       "      <td>0.740</td>\n",
       "    </tr>\n",
       "    <tr>\n",
       "      <th>d</th>\n",
       "      <td>4.253</td>\n",
       "      <td>3.669</td>\n",
       "      <td>5.076</td>\n",
       "      <td>5.010</td>\n",
       "      <td>4.992</td>\n",
       "      <td>3.044</td>\n",
       "      <td>3.736</td>\n",
       "      <td>5.206</td>\n",
       "      <td>4.702</td>\n",
       "      <td>3.725</td>\n",
       "      <td>5.933</td>\n",
       "      <td>5.858</td>\n",
       "      <td>1.575</td>\n",
       "      <td>1.043</td>\n",
       "      <td>3.475</td>\n",
       "    </tr>\n",
       "    <tr>\n",
       "      <th>e</th>\n",
       "      <td>12.702</td>\n",
       "      <td>14.715</td>\n",
       "      <td>16.396</td>\n",
       "      <td>12.181</td>\n",
       "      <td>12.570</td>\n",
       "      <td>8.995</td>\n",
       "      <td>11.792</td>\n",
       "      <td>9.912</td>\n",
       "      <td>10.149</td>\n",
       "      <td>7.352</td>\n",
       "      <td>18.910</td>\n",
       "      <td>15.453</td>\n",
       "      <td>6.418</td>\n",
       "      <td>7.968</td>\n",
       "      <td>7.562</td>\n",
       "    </tr>\n",
       "  </tbody>\n",
       "</table>\n",
       "</div>"
      ],
      "text/plain": [
       "   English  French  German  Spanish  Portuguese  Esperanto  Italian  Turkish  \\\n",
       "a    8.167   7.636   6.516   11.525      14.634     12.117   11.745   12.920   \n",
       "b    1.492   0.901   1.886    2.215       1.043      0.980    0.927    2.844   \n",
       "c    2.782   3.260   2.732    4.019       3.882      0.776    4.501    1.463   \n",
       "d    4.253   3.669   5.076    5.010       4.992      3.044    3.736    5.206   \n",
       "e   12.702  14.715  16.396   12.181      12.570      8.995   11.792    9.912   \n",
       "\n",
       "   Swedish  Polish   Dutch  Danish  Icelandic  Finnish  Czech  \n",
       "a    9.383  10.503   7.486   6.025     10.110   12.217  8.421  \n",
       "b    1.535   1.740   1.584   2.000      1.043    0.281  0.822  \n",
       "c    1.486   3.895   1.242   0.565      0.000    0.281  0.740  \n",
       "d    4.702   3.725   5.933   5.858      1.575    1.043  3.475  \n",
       "e   10.149   7.352  18.910  15.453      6.418    7.968  7.562  "
      ]
     },
     "execution_count": 3,
     "metadata": {},
     "output_type": "execute_result"
    }
   ],
   "source": [
    "wiki_table = u\"\"\"English|French|German|Spanish|Portuguese|Esperanto|Italian|Turkish|Swedish|Polish|Dutch|Danish|Icelandic|Finnish|Czech\n",
    "a|8.167|7.636|6.516|11.525|14.634|12.117|11.745|12.920|9.383|10.503|7.486|6.025|10.110|12.217|8.421\n",
    "b|1.492|0.901|1.886|2.215|1.043|0.980|0.927|2.844|1.535|1.740|1.584|2.000|1.043|0.281|0.822\n",
    "c|2.782|3.260|2.732|4.019|3.882|0.776|4.501|1.463|1.486|3.895|1.242|0.565|0|0.281|0.740\n",
    "d|4.253|3.669|5.076|5.010|4.992|3.044|3.736|5.206|4.702|3.725|5.933|5.858|1.575|1.043|3.475\n",
    "e|12.702|14.715|16.396|12.181|12.570|8.995|11.792|9.912|10.149|7.352|18.91|15.453|6.418|7.968|7.562\n",
    "f|2.228|1.066|1.656|0.692|1.023|1.037|1.153|0.461|2.027|0.143|0.805|2.406|3.013|0.194|0.084\n",
    "g|2.015|0.866|3.009|1.768|1.303|1.171|1.644|1.253|2.862|1.731|3.403|4.077|4.241|0.392|0.092\n",
    "h|6.094|0.737|4.577|0.703|0.781|0.384|0.636|1.212|2.090|1.015|2.380|1.621|1.871|1.851|1.356\n",
    "i|6.966|7.529|6.550|6.247|6.186|10.012|10.143|9.600|5.817|8.328|6.499|6.000|7.578|10.817|6.073\n",
    "j|0.153|0.613|0.268|0.493|0.397|3.501|0.011|0.034|0.614|1.836|1.46|0.730|1.144|2.042|1.433\n",
    "k|0.772|0.049|1.417|0.011|0.015|4.163|0.009|5.683|3.140|2.753|2.248|3.395|3.314|4.973|2.894\n",
    "l|4.025|5.456|3.437|4.967|2.779|6.104|6.510|5.922|5.275|2.564|3.568|5.229|4.532|5.761|3.802\n",
    "m|2.406|2.968|2.534|3.157|4.738|2.994|2.512|3.752|3.471|2.515|2.213|3.237|4.041|3.202|2.446\n",
    "n|6.749|7.095|9.776|6.712|4.446|7.955|6.883|7.987|8.542|6.237|10.032|7.240|7.711|8.826|6.468\n",
    "o|7.507|5.796|2.594|8.683|9.735|8.779|9.832|2.976|4.482|6.667|6.063|4.636|2.166|5.614|6.695\n",
    "p|1.929|2.521|0.670|2.510|2.523|2.755|3.056|0.886|1.839|2.445|1.57|1.756|0.789|1.842|1.906\n",
    "q|0.095|1.362|0.018|0.877|1.204|0|0.505|0|0.020|0|0.009|0.007|0|0.013|0.001\n",
    "r|5.987|6.693|7.003|6.871|6.530|5.914|6.367|7.722|8.431|5.243|6.411|8.956|8.581|2.872|4.799\n",
    "s|6.327|7.948|7.270|7.977|6.805|6.092|4.981|3.014|6.590|5.224|3.73|5.805|5.630|7.862|5.212\n",
    "t|9.056|7.244|6.154|4.632|4.336|5.276|5.623|3.314|7.691|2.475|6.79|6.862|4.953|8.750|5.727\n",
    "u|2.758|6.311|4.166|2.927|3.639|3.183|3.011|3.235|1.919|2.062|1.99|1.979|4.562|5.008|2.160\n",
    "v|0.978|1.838|0.846|1.138|1.575|1.904|2.097|0.959|2.415|0.012|2.85|2.332|2.437|2.250|5.344\n",
    "w|2.360|0.074|1.921|0.017|0.037|0|0.033|0|0.142|5.813|1.52|0.069|0|0.094|0.016\n",
    "x|0.150|0.427|0.034|0.215|0.253|0|0.003|0|0.159|0.004|0.036|0.028|0.046|0.031|0.027\n",
    "y|1.974|0.128|0.039|1.008|0.006|0|0.020|3.336|0.708|3.206|0.035|0.698|0.900|1.745|1.043\n",
    "z|0.074|0.326|1.134|0.467|0.470|0.494|1.181|1.500|0.070|4.852|1.39|0.034|0|0.051|1.503\n",
    "à|0|0.486|0|0|0.072|0|0.635|0|0|0|0|0|0|0|0\n",
    "â|0|0.051|0|0|0.562|0|0|0|0|0|0|0|0|0|0\n",
    "á|0|0|0|0.502|0.118|0|0|0|0|0|0|0|1.799|0|0.867\n",
    "å|0|0|0|0|0|0|0|0|1.338|0|0|1.190|0|0.003|0\n",
    "ä|0|0|0.578|0|0|0|0|0|1.797|0|0|0|0|3.577|0\n",
    "ã|0|0|0|0|0.733|0|0|0|0|0|0|0|0|0|0\n",
    "ą|0|0|0|0|0|0|0|0|0|0.699|0|0|0|0|0\n",
    "æ|0|0|0|0|0|0|0|0|0|0|0|0.872|0.867|0|0\n",
    "œ|0|0.018|0|0|0|0|0|0|0|0|0|0|0|0|0\n",
    "ç|0|0.085|0|0|0.530|0|0|1.156|0|0|0|0|0|0|0\n",
    "ĉ|0|0|0|0|0|0.657|0|0|0|0|0|0|0|0|0\n",
    "ć|0|0|0|0|0|0|0|0|0|0.743|0|0|0|0|0\n",
    "č|0|0|0|0|0|0|0|0|0|0|0|0|0|0|0.462\n",
    "ď|0|0|0|0|0|0|0|0|0|0|0|0|0|0|0.015\n",
    "ð|0|0|0|0|0|0|0|0|0|0|0|0|4.393|0|0\n",
    "è|0|0.271|0|0|0|0|0.263|0|0|0|0|0|0|0|0\n",
    "é|0|1.504|0|0.433|0.337|0|0|0|0|0|0|0|0.647|0|0.633\n",
    "ê|0|0.218|0|0|0.450|0|0|0|0|0|0|0|0|0|0\n",
    "ë|0|0.008|0|0|0|0|0|0|0|0|0|0|0|0|0\n",
    "ę|0|0|0|0|0|0|0|0|0|1.035|0|0|0|0|0\n",
    "ě|0|0|0|0|0|0|0|0|0|0|0|0|0|0|1.222\n",
    "ĝ|0|0|0|0|0|0.691|0|0|0|0|0|0|0|0|0\n",
    "ğ|0|0|0|0|0|0|0|1.125|0|0|0|0|0|0|0\n",
    "ĥ|0|0|0|0|0|0.022|0|0|0|0|0|0|0|0|0\n",
    "î|0|0.045|0|0|0|0|0|0|0|0|0|0|0|0|0\n",
    "ì|0|0|0|0|0|0|0.030|0|0|0|0|0|0|0|0\n",
    "í|0|0|0|0.725|0.132|0|0|0|0|0|0|0|1.570|0|1.643\n",
    "ï|0|0.005|0|0|0|0|0|0|0|0|0|0|0|0|0\n",
    "ı|0|0|0|0|0|0|0|5.114|0|0|0|0|0|0|0\n",
    "ĵ|0|0|0|0|0|0.055|0|0|0|0|0|0|0|0|0\n",
    "ł|0|0|0|0|0|0|0|0|0|2.109|0|0|0|0|0\n",
    "ñ|0|0|0|0.311|0|0|0|0|0|0|0|0|0|0|0\n",
    "ń|0|0|0|0|0|0|0|0|0|0.362|0|0|0|0|0\n",
    "ň|0|0|0|0|0|0|0|0|0|0|0|0|0|0|0.007\n",
    "ò|0|0|0|0|0|0|0.002|0|0|0|0|0|0|0|0\n",
    "ö|0|0|0.443|0|0|0|0|0.777|1.305|0|0|0|0.777|0.444|0\n",
    "ô|0|0.023|0|0|0.635|0|0|0|0|0|0|0|0|0|0\n",
    "ó|0|0|0|0.827|0.296|0|0|0|0|1.141|0|0|0.994|0|0.024\n",
    "õ|0|0|0|0|0.040|0|0|0|0|0|0|0|0|0|0\n",
    "ø|0|0|0|0|0|0|0|0|0|0|0|0.939|0|0|0\n",
    "ř|0|0|0|0|0|0|0|0|0|0|0|0|0|0|0.380\n",
    "ŝ|0|0|0|0|0|0.385|0|0|0|0|0|0|0|0|0\n",
    "ş|0|0|0|0|0|0|0|1.780|0|0|0|0|0|0|0\n",
    "ś|0|0|0|0|0|0|0|0|0|0.814|0|0|0|0|0\n",
    "š|0|0|0|0|0|0|0|0|0|0|0|0|0|0|0.688\n",
    "ß|0|0|0.307|0|0|0|0|0|0|0|0|0|0|0|0\n",
    "ť|0|0|0|0|0|0|0|0|0|0|0|0|0|0|0.006\n",
    "þ|0|0|0|0|0|0|0|0|0|0|0|0|1.455|0|0\n",
    "ù|0|0.058|0|0|0|0|0.166|0|0|0|0|0|0|0|0\n",
    "ú|0|0|0|0.168|0.207|0|0|0|0|0|0|0|0.613|0|0.045\n",
    "û|0|0.060|0|0|0|0|0|0|0|0|0|0|0|0|0\n",
    "ŭ|0|0|0|0|0|0.520|0|0|0|0|0|0|0|0|0\n",
    "ü|0|0|0.995|0.012|0.026|0|0|1.854|0|0|0|0|0|0|0\n",
    "ů|0|0|0|0|0|0|0|0|0|0|0|0|0|0|0.204\n",
    "ý|0|0|0|0|0|0|0|0|0|0|0|0|0.228|0|0.995\n",
    "ź|0|0|0|0|0|0|0|0|0|0.078|0|0|0|0|0\n",
    "ż|0|0|0|0|0|0|0|0|0|0.706|0|0|0|0|0\n",
    "ž|0|0|0|0|0|0|0|0|0|0|0|0|0|0|0.721\"\"\"\n",
    "df = pd.read_table(io.StringIO(wiki_table), sep=\"|\", index_col=0)\n",
    "df.head()"
   ]
  },
  {
   "cell_type": "markdown",
   "metadata": {
    "id": "3Av5tmHDbKOn"
   },
   "source": [
    "Implement the language classifier and answer the following:\n",
    "\n",
    "1. **[0.5p]** Naive Bayes can be implemented\n",
    "    either by multiplying probabilities or by adding\n",
    "    log-probabilities. Which one is better and why?\n",
    "    \n",
    "    Please type a short answer below.\n",
    "2. **[1.5p]** What is the language of the following phrases, according to the Naive Bayes classifier (whihc you have to implement in a code cell below)? Assume equal prior language probabilities $P(C)$."
   ]
  },
  {
   "cell_type": "markdown",
   "metadata": {
    "id": "6Qpm3aaICM-7"
   },
   "source": [
    "Using log-probabilities is **debatable** because **adding log-probabilities has an advantage of not handling really small values. However, multiplying probs has a given advantage, where we handle probabilities of exactly 0.0 (that throws math error in log based calculations)**."
   ]
  },
  {
   "cell_type": "code",
   "execution_count": 4,
   "metadata": {
    "colab": {
     "base_uri": "https://localhost:8080/",
     "height": 88
    },
    "executionInfo": {
     "elapsed": 6540,
     "status": "ok",
     "timestamp": 1603379296948,
     "user": {
      "displayName": "Jan Chorowski",
      "photoUrl": "https://lh3.googleusercontent.com/a-/AOh14GiqjVlbW0luD6bn2f_qryOD2Z2a5Wrer8PyDHk9RA=s64",
      "userId": "18100051538790809279"
     },
     "user_tz": -120
    },
    "id": "6qqxHPSF6pQ0",
    "outputId": "b2ebd7c8-6809-4943-e664-663d31fe3909"
   },
   "outputs": [
    {
     "name": "stdout",
     "output_type": "stream",
     "text": [
      "Languages: English,French,German,Spanish,Portuguese,Esperanto,Italian,Turkish,Swedish,Polish,Dutch,Danish,Icelandic,Finnish,Czech\n",
      "Letters: a, b, c, d, e, f, g, h, i, j, k, l, m, n, o, p, q, r, s, t, u, v, w, x, y, z, à, â, á, å, ä, ã, ą, æ, œ, ç, ĉ, ć, č, ď, ð, è, é, ê, ë, ę, ě, ĝ, ğ, ĥ, î, ì, í, ï, ı, ĵ, ł, ñ, ń, ň, ò, ö, ô, ó, õ, ø, ř, ŝ, ş, ś, š, ß, ť, þ, ù, ú, û, ŭ, ü, ů, ý, ź, ż, ž\n",
      "P(ę|Polish) = 1.035\n"
     ]
    }
   ],
   "source": [
    "# We can easily manipulate the letter frequency table using Pandas\n",
    "langs = list(df)\n",
    "letters = list(df.index)\n",
    "print(\"Languages:\", \",\".join(langs))\n",
    "print(\"Letters:\", \", \".join(letters))\n",
    "print(\"P(ę|Polish) =\", df.loc[\"ę\", \"Polish\"])"
   ]
  },
  {
   "cell_type": "code",
   "execution_count": 5,
   "metadata": {
    "colab": {
     "base_uri": "https://localhost:8080/",
     "height": 629
    },
    "executionInfo": {
     "elapsed": 6539,
     "status": "ok",
     "timestamp": 1603379296950,
     "user": {
      "displayName": "Jan Chorowski",
      "photoUrl": "https://lh3.googleusercontent.com/a-/AOh14GiqjVlbW0luD6bn2f_qryOD2Z2a5Wrer8PyDHk9RA=s64",
      "userId": "18100051538790809279"
     },
     "user_tz": -120
    },
    "id": "kW6DtwD48nzD",
    "outputId": "1e0b0664-667b-47f1-ab0a-ee4fe20a7d52"
   },
   "outputs": [
    {
     "name": "stdout",
     "output_type": "stream",
     "text": [
      "\n",
      "Total letter count by language:\n",
      "English        99.999\n",
      "French        100.060\n",
      "German        100.002\n",
      "Spanish       100.000\n",
      "Portuguese    100.040\n",
      "Esperanto      99.960\n",
      "Italian       100.007\n",
      "Turkish       106.997\n",
      "Swedish        99.999\n",
      "Polish        100.027\n",
      "Dutch         100.157\n",
      "Danish         99.999\n",
      "Icelandic      99.998\n",
      "Finnish       100.004\n",
      "Czech          88.013\n",
      "dtype: float64\n",
      "\n",
      "After normalization:\n",
      "English       1.0\n",
      "French        1.0\n",
      "German        1.0\n",
      "Spanish       1.0\n",
      "Portuguese    1.0\n",
      "Esperanto     1.0\n",
      "Italian       1.0\n",
      "Turkish       1.0\n",
      "Swedish       1.0\n",
      "Polish        1.0\n",
      "Dutch         1.0\n",
      "Danish        1.0\n",
      "Icelandic     1.0\n",
      "Finnish       1.0\n",
      "Czech         1.0\n",
      "dtype: float64\n"
     ]
    }
   ],
   "source": [
    "# The values are percentages of letter appearance, but curiously enough they don't\n",
    "# sum to 100%.\n",
    "print(f\"\\nTotal letter count by language:\\n{df.sum(0)}\")\n",
    "\n",
    "# Thus we normalize the data such that the letter frequencies add up to 1 for each language\n",
    "df_norm = df.div(df.sum(axis=0), axis=1)\n",
    "\n",
    "print(f\"\\nAfter normalization:\\n{df_norm.sum(0)}\")"
   ]
  },
  {
   "cell_type": "code",
   "execution_count": 6,
   "metadata": {
    "id": "SZI1U6VgcfxL"
   },
   "outputs": [],
   "source": [
    "def naive_bayes(sent, langs, df):\n",
    "    \"\"\"Returns the most probable language of a sentence\"\"\"\n",
    "\n",
    "    # Try working with log-probabilities.\n",
    "    # to prevent taking log(0) you can e.g. add a very small amount (1e-100)\n",
    "    # to each tabulated frequency.\n",
    "    def softlog(x):\n",
    "        if x == 0.0:\n",
    "            x = 1e-100\n",
    "        return math.log(x)\n",
    "    \n",
    "    df_log = df.applymap(softlog)\n",
    "    # normalize the sentence: remove spaces and punctuations, take lower case\n",
    "    for eject in [\".\", \" \", \",\", \"'\"]:\n",
    "        sent = sent.replace(eject, \"\")\n",
    "    sent = sent.lower()\n",
    "\n",
    "    log_probs = {}\n",
    "    for lang in langs:\n",
    "        prob = 0.0\n",
    "        for letter in sent:\n",
    "            prob += df_log.loc[letter, lang]\n",
    "        log_probs[lang] = prob\n",
    "\n",
    "    probs = []\n",
    "    for l, p in log_probs.items():\n",
    "        probs.append((p, l))\n",
    "    \n",
    "    reee = {}\n",
    "    for p, l in sorted(probs, reverse = True):\n",
    "        reee[l] = p\n",
    "    \n",
    "    return reee"
   ]
  },
  {
   "cell_type": "code",
   "execution_count": 7,
   "metadata": {
    "colab": {
     "base_uri": "https://localhost:8080/",
     "height": 323
    },
    "executionInfo": {
     "elapsed": 7398,
     "status": "ok",
     "timestamp": 1603379297823,
     "user": {
      "displayName": "Jan Chorowski",
      "photoUrl": "https://lh3.googleusercontent.com/a-/AOh14GiqjVlbW0luD6bn2f_qryOD2Z2a5Wrer8PyDHk9RA=s64",
      "userId": "18100051538790809279"
     },
     "user_tz": -120
    },
    "id": "H2PK1SnFBZVc",
    "outputId": "38315e34-e90d-4c91-d900-fa9fb7e9b2dd"
   },
   "outputs": [
    {
     "name": "stdout",
     "output_type": "stream",
     "text": [
      "No dejes para mañana lo que puedas hacer hoy.:\n",
      "Spanish: -109.22389109425953\t\n",
      "English: -337.2990768199661\t\n",
      "Portuguese: -337.3786236106419\t\n",
      "French: -337.3941821201992\t\n",
      "Swedish: -341.704036001394\t\n",
      "Italian: -342.8689469564796\t\n",
      "Finnish: -343.44580960470415\t\n",
      "Dutch: -344.16539765024163\t\n",
      "Czech: -344.7096403586452\t\n",
      "Danish: -345.10098410102927\t\n",
      "German: -346.120321306024\t\n",
      "Polish: -563.8011698924389\t\n",
      "Turkish: -569.1950469885481\t\n",
      "Esperanto: -787.8944414548469\t\n",
      "Icelandic: -795.4361872020115\t\n",
      "\n",
      "\n",
      "Przed wyruszeniem w drogę należy zebrać drużynę.:\n",
      "Polish: -134.6169120461959\t\n",
      "English: -1273.34492114658\t\n",
      "Dutch: -1274.5249376000809\t\n",
      "German: -1274.779943697768\t\n",
      "Spanish: -1276.661350480558\t\n",
      "Czech: -1280.6576717849587\t\n",
      "Swedish: -1280.7459717660456\t\n",
      "French: -1282.049493348594\t\n",
      "Danish: -1282.2237174453614\t\n",
      "Italian: -1286.1344011369924\t\n",
      "Finnish: -1291.0389411447452\t\n",
      "Portuguese: -1292.1859636951629\t\n",
      "Turkish: -1716.8102013263986\t\n",
      "Esperanto: -2400.3731319533385\t\n",
      "Icelandic: -2401.780455788748\t\n",
      "\n",
      "\n",
      "Żeby zrozumieć rekurencję, należy najpierw zrozumieć rekurencję.:\n",
      "Polish: -183.29071014561552\t\n",
      "Dutch: -1545.2119163419995\t\n",
      "Czech: -1548.4598751186513\t\n",
      "German: -1550.139504250054\t\n",
      "French: -1557.1314660778328\t\n",
      "Swedish: -1558.55442519859\t\n",
      "English: -1558.7490508390597\t\n",
      "Spanish: -1559.0460321092883\t\n",
      "Danish: -1560.4388863310373\t\n",
      "Finnish: -1561.9166297626964\t\n",
      "Portuguese: -1569.299238172609\t\n",
      "Italian: -1573.8296620188883\t\n",
      "Turkish: -1775.2626125494048\t\n",
      "Esperanto: -2219.088792796157\t\n",
      "Icelandic: -3126.414625060513\t\n",
      "\n",
      "\n",
      "Si vale la pena hacerlo vale la pena hacerlo bien.:\n",
      "Italian: -109.94738336509529\t\n",
      "Spanish: -112.93317944920054\t\n",
      "English: -114.8616049753579\t\n",
      "French: -114.9448286849575\t\n",
      "Dutch: -115.03353957980015\t\n",
      "Swedish: -115.31275818631562\t\n",
      "Portuguese: -115.54191710332415\t\n",
      "Esperanto: -116.59514889843075\t\n",
      "Czech: -117.62681634780007\t\n",
      "Danish: -118.67876763748819\t\n",
      "German: -119.29392245361656\t\n",
      "Turkish: -119.71907603928386\t\n",
      "Finnish: -119.96633544024574\t\n",
      "Polish: -131.0525223009279\t\n",
      "Icelandic: -574.5697777123687\t\n",
      "\n",
      "\n",
      "Experience is what you get when you didn't get what you wanted.:\n",
      "English: -147.79301048606928\t\n",
      "German: -163.78724858237274\t\n",
      "Dutch: -164.45071654843863\t\n",
      "Polish: -164.61123754419887\t\n",
      "Swedish: -169.14527037734763\t\n",
      "Danish: -173.3110687211666\t\n",
      "French: -174.76169100232715\t\n",
      "Finnish: -175.9735193686833\t\n",
      "Spanish: -177.48945703064615\t\n",
      "Czech: -186.51691119509542\t\n",
      "Italian: -189.4622462754832\t\n",
      "Portuguese: -190.2615806611365\t\n",
      "Turkish: -1293.4645286945574\t\n",
      "Icelandic: -1299.6153887656687\t\n",
      "Esperanto: -1970.1071056408261\t\n",
      "\n",
      "\n",
      "Należy prowokować intelekt, nie intelektualistów.:\n",
      "Polish: -135.32166007746721\t\n",
      "Czech: -599.3785494661803\t\n",
      "Spanish: -611.4289293233775\t\n",
      "Portuguese: -617.411786044161\t\n",
      "English: -807.6089277902902\t\n",
      "Dutch: -809.9387536676687\t\n",
      "Finnish: -810.1476810115971\t\n",
      "German: -814.3404928026141\t\n",
      "Swedish: -814.8754219272304\t\n",
      "Danish: -816.7503082607795\t\n",
      "French: -827.0763247067426\t\n",
      "Italian: -835.4235791882464\t\n",
      "Icelandic: -1266.9166621077964\t\n",
      "Turkish: -1488.6528064054214\t\n",
      "Esperanto: -1707.3041530689923\t\n",
      "\n",
      "\n"
     ]
    }
   ],
   "source": [
    "sentences = [\n",
    "    \"No dejes para mañana lo que puedas hacer hoy.\",\n",
    "    \"Przed wyruszeniem w drogę należy zebrać drużynę.\",\n",
    "    \"Żeby zrozumieć rekurencję, należy najpierw zrozumieć rekurencję.\",\n",
    "    \"Si vale la pena hacerlo vale la pena hacerlo bien.\",\n",
    "    \"Experience is what you get when you didn't get what you wanted.\",\n",
    "    \"Należy prowokować intelekt, nie intelektualistów.\",\n",
    "]\n",
    "\n",
    "for sent in sentences:\n",
    "    print(f\"{sent}:\")\n",
    "    for k, v in naive_bayes(sent, langs, df_norm).items():\n",
    "        #if v < 1e-3:\n",
    "        #    break\n",
    "        print(f\"{k}: {v}\\t\")\n",
    "    print(\"\\n\")"
   ]
  },
  {
   "cell_type": "markdown",
   "metadata": {
    "id": "JWzCDfvskvQQ"
   },
   "source": [
    "# Problem 2 [3p] Ridge Regression\n",
    "\n",
    "In this problem you will implement ridge regression **without using `sklearn`**!\n",
    "\n",
    "When the data set is small and highly dimensional (or when high degree polynomials are used) the linear regression solution may fit the noise in the data instead of capturing the general rule. We call this phenomenon overfitting and will discuss it in detail in a few lectures.\n",
    "\n",
    "One way of preventing overfitting is to force the model's parameters to be small. We call this *regularization*. Consider the following cost function:\n",
    "\n",
    "$$ J(\\Theta) = \\frac{1}{N}\\sum_{i=1}^N (y^{(i)} - x^{(i)}\\Theta)^2 + \\frac{\\alpha}{N} \\Theta^T \\Theta $$\n",
    "\n",
    "Analyze datasets sampled using the following procedure:\n",
    "\n",
    "1. $x \\propto U(0;1)$: first $x$ is sampled uniformly from the  $0-1$ range.\n",
    "2. $y \\propto \\mathcal{N}(\\mu=1+2x-5x^2 + 4x^3, \\sigma=0.1)$: then \n",
    "    $y$ is sampled from the Normal distribution with mean \n",
    "    $\\mu=1+2x-5x^2+4x^3$ and standard deviation $0.1$\n",
    "\n",
    "\n",
    "## Task 2.1 [1.5p]\n",
    "Repeat 30 times an experiment in which you sample a new training\n",
    "dataset, then fit polynomials of degree 0 to 14 and use $\\alpha$\n",
    "value from the set $\\{0, 10^{-6}, 10^{-5}, 10^{-4}, 10^{-3}, 10^{-2}, 10^{-1}\\}$.\n",
    "\n",
    "Plot the mean training and testing errors. What is the effect of increasing $\\alpha$?\n",
    "\n",
    "Plot how the error rates depend on the the polynomial degree and regularization constant. Try to find the best value for alpha on the test set, **explain** the model behavoir for small alphas and large alphas.\n",
    "\n",
    "## Task 2.2 [0.5p]\n",
    "Use a small alpha for numerical stability (1e-6) and train the model on increasingly large training sets. Plot the training curves (train and test error rates versus amount of training data). What can you notice?\n",
    "\n",
    "## Task 2.3 [1p]\n",
    "\n",
    "Now let's change the data slightly:\n",
    "1. $x \\propto U(0;10)$\n",
    "2. $y \\propto \\mathcal{N}(\\mu=1+0.2x-0.05x^2 + 0.004x^3, \\sigma=0.1)$\n",
    "\n",
    "Try fitting the polynomial regression once again. Would it make sense to normalize the data after feature expansion?\n",
    "\n",
    "Which dataset is easier to fit? When is ridge regression most effective? \n",
    "\n",
    "Note: in real life, we may e.g. have a dataset with mixed units, like milimeters and kilometers. Data normalization is often an important preprocessing step.\n"
   ]
  },
  {
   "cell_type": "markdown",
   "metadata": {
    "id": "4NgOPB_f312v"
   },
   "source": [
    "## Task 2.1"
   ]
  },
  {
   "cell_type": "code",
   "execution_count": 26,
   "metadata": {
    "colab": {
     "base_uri": "https://localhost:8080/",
     "height": 282
    },
    "executionInfo": {
     "elapsed": 7389,
     "status": "ok",
     "timestamp": 1603379297825,
     "user": {
      "displayName": "Jan Chorowski",
      "photoUrl": "https://lh3.googleusercontent.com/a-/AOh14GiqjVlbW0luD6bn2f_qryOD2Z2a5Wrer8PyDHk9RA=s64",
      "userId": "18100051538790809279"
     },
     "user_tz": -120
    },
    "id": "7Xe-Ilp0kynI",
    "outputId": "3f89c901-7562-45d9-b55c-39639feaad83"
   },
   "outputs": [
    {
     "data": {
      "text/plain": [
       "<matplotlib.legend.Legend at 0x7fe2e1532c10>"
      ]
     },
     "execution_count": 26,
     "metadata": {},
     "output_type": "execute_result"
    },
    {
     "data": {
      "image/png": "[encoded data removed]",
      "text/plain": [
       "<Figure size 432x288 with 1 Axes>"
      ]
     },
     "metadata": {},
     "output_type": "display_data"
    }
   ],
   "source": [
    "#\n",
    "# The true polynomial relation:\n",
    "# y(x) = 1 + 2x -5x^2 + 4x^3\n",
    "#\n",
    "# TODO: write down the proper coefficients\n",
    "#\n",
    "\n",
    "\n",
    "def powers_of_X(X, degree):\n",
    "    powers = np.arange(degree + 1).reshape(1, -1)\n",
    "    return X ** powers\n",
    "\n",
    "\n",
    "def compute_polynomial(X, Theta):\n",
    "    XP = powers_of_X(X, len(Theta) - 1)  # len(Theta) x N\n",
    "    Y = np.sum(Theta * XP, axis = 1)\n",
    "    return Y\n",
    "\n",
    "true_poly_theta = np.array([1.0, 2.0, -5.0, 4.0])\n",
    "\n",
    "def make_dataset(N, theta=true_poly_theta, sigma=0.1):\n",
    "    \"\"\" Sample a dataset \"\"\"\n",
    "    X = np.random.uniform(size=(N, 1))\n",
    "    Y_clean = compute_polynomial(X, theta)    \n",
    "    Y = Y_clean + np.random.randn(1, N) * sigma # tutaj zmiana N, 1 na 1, N\n",
    "    return X, Y\n",
    "\n",
    "\n",
    "train_data = make_dataset(30)\n",
    "XX = np.linspace(0, 1, 100).reshape(-1, 1)\n",
    "YY = compute_polynomial(XX, true_poly_theta)\n",
    "plt.scatter(train_data[0], train_data[1], label=\"train data\", color=\"r\")\n",
    "plt.plot(XX, compute_polynomial(XX, true_poly_theta), label=\"ground truth\")\n",
    "plt.legend(loc=\"upper left\")"
   ]
  },
  {
   "cell_type": "code",
   "execution_count": null,
   "metadata": {
    "id": "-6cESiv0k2Kr"
   },
   "outputs": [],
   "source": [
    "def poly_fit(data, degree, alpha):\n",
    "    \"Fit a polynomial of a given degree and weight decay parameter alpha\"\n",
    "    X = powers_of_X(data[0], degree)  # Matrix N x d\n",
    "    Y = data[1].reshape(-1, 1)  # Matrix N x 1\n",
    "    #\n",
    "    # TODO: implement the closed-form solution for Theta\n",
    "    #\n",
    "    # Please note that np.linalg.inv may be numerically unstable.\n",
    "    # It is better to use np.linalg.solve or even a QR decomposition.\n",
    "    #\n",
    "    Theta = TODO\n",
    "    return Theta"
   ]
  },
  {
   "cell_type": "code",
   "execution_count": null,
   "metadata": {
    "colab": {
     "base_uri": "https://localhost:8080/",
     "height": 204
    },
    "executionInfo": {
     "elapsed": 8445,
     "status": "ok",
     "timestamp": 1603379298894,
     "user": {
      "displayName": "Jan Chorowski",
      "photoUrl": "https://lh3.googleusercontent.com/a-/AOh14GiqjVlbW0luD6bn2f_qryOD2Z2a5Wrer8PyDHk9RA=s64",
      "userId": "18100051538790809279"
     },
     "user_tz": -120
    },
    "id": "S6bBWSMHaq1c",
    "outputId": "0def79c7-16fb-43b8-f9f2-ac96b2080b35"
   },
   "outputs": [],
   "source": [
    "num_test_samples = 100\n",
    "num_train_samples = [30]\n",
    "alphas = [0.0, 0.000001, 0.00001, 0.0001, 0.001, 0.01, 0.1, 1.0]\n",
    "degrees = range(15)\n",
    "num_repetitions = 30\n",
    "\n",
    "\n",
    "# sample a single test dataset for all experiments\n",
    "test_data = make_dataset(num_test_samples)\n",
    "results = []\n",
    "\n",
    "for (repetition, num_train, alpha, degree,) in itertools.product(\n",
    "    range(num_repetitions), num_train_samples, alphas, degrees\n",
    "):\n",
    "    train_data = make_dataset(num_train)\n",
    "    Theta = poly_fit(train_data, degree, alpha)\n",
    "    train_err = TODO\n",
    "    test_err = TODO\n",
    "    results.append(\n",
    "        {\n",
    "            \"repetition\": repetition,\n",
    "            \"num_train\": num_train,\n",
    "            \"alpha\": alpha,\n",
    "            \"degree\": degree,\n",
    "            \"dataset\": \"train\",\n",
    "            \"err_rate\": train_err,\n",
    "        }\n",
    "    )\n",
    "    results.append(\n",
    "        {\n",
    "            \"repetition\": repetition,\n",
    "            \"num_train\": num_train,\n",
    "            \"alpha\": alpha,\n",
    "            \"degree\": degree,\n",
    "            \"dataset\": \"test\",\n",
    "            \"err_rate\": test_err,\n",
    "        }\n",
    "    )\n",
    "results_df = pd.DataFrame(results)\n",
    "results_df.head()"
   ]
  },
  {
   "cell_type": "code",
   "execution_count": null,
   "metadata": {
    "colab": {
     "base_uri": "https://localhost:8080/",
     "height": 1000
    },
    "executionInfo": {
     "elapsed": 25556,
     "status": "ok",
     "timestamp": 1603379316017,
     "user": {
      "displayName": "Jan Chorowski",
      "photoUrl": "https://lh3.googleusercontent.com/a-/AOh14GiqjVlbW0luD6bn2f_qryOD2Z2a5Wrer8PyDHk9RA=s64",
      "userId": "18100051538790809279"
     },
     "user_tz": -120
    },
    "id": "XIJkqMDSgD6v",
    "outputId": "5b90d870-9a10-4ab8-cbe6-8ced7edf2e74"
   },
   "outputs": [],
   "source": [
    "# TODO\n",
    "#\n",
    "# Plot how the error rates depend on the the polynomial degree and regularization\n",
    "# constant.\n",
    "# Try to find the best value for lambda on the test set, explain the model\n",
    "# behavoir for small lambdas and large lambdas.\n",
    "#\n",
    "# Hint: the plots below all use sns.relplot!\n",
    "#\n"
   ]
  },
  {
   "cell_type": "markdown",
   "metadata": {
    "id": "VX6O_YgL9Kc-"
   },
   "source": [
    "**TODO**\n",
    "\n",
    "Explain below the model behavoir for small alphas and large alphas.\n"
   ]
  },
  {
   "cell_type": "markdown",
   "metadata": {
    "id": "romsFu8A9Qr1"
   },
   "source": [
    "TODO"
   ]
  },
  {
   "cell_type": "markdown",
   "metadata": {
    "id": "n5euD33Q362V"
   },
   "source": [
    "## Task 2.2"
   ]
  },
  {
   "cell_type": "code",
   "execution_count": null,
   "metadata": {
    "colab": {
     "base_uri": "https://localhost:8080/",
     "height": 1000
    },
    "executionInfo": {
     "elapsed": 86036,
     "status": "ok",
     "timestamp": 1603379376507,
     "user": {
      "displayName": "Jan Chorowski",
      "photoUrl": "https://lh3.googleusercontent.com/a-/AOh14GiqjVlbW0luD6bn2f_qryOD2Z2a5Wrer8PyDHk9RA=s64",
      "userId": "18100051538790809279"
     },
     "user_tz": -120
    },
    "id": "c6KxJOQjf3rZ",
    "outputId": "5b4e8d43-9f33-4ae1-96bb-336807c3123e"
   },
   "outputs": [],
   "source": [
    "# TODO\n",
    "# Now set a small regularizatoin for numerical stability  (e.g. alpha=1e-6)\n",
    "# and present the relationship between\n",
    "# train and test error rates for varous degrees of the polynomial for\n",
    "# different sizes of the train set.\n",
    "#\n"
   ]
  },
  {
   "cell_type": "markdown",
   "metadata": {
    "id": "gfLeVb0Q4CK8"
   },
   "source": [
    "**TODO** Describe in two sentences the plot above. What can you notice?"
   ]
  },
  {
   "cell_type": "markdown",
   "metadata": {
    "id": "URVW15wKzAqe"
   },
   "source": [
    "## Task 2.3\n",
    "\n"
   ]
  },
  {
   "cell_type": "code",
   "execution_count": null,
   "metadata": {
    "id": "3lCjVWNcBn9H"
   },
   "outputs": [],
   "source": [
    "# TODO: solve Task 2.3"
   ]
  },
  {
   "cell_type": "code",
   "execution_count": null,
   "metadata": {
    "colab": {
     "base_uri": "https://localhost:8080/",
     "height": 1000
    },
    "executionInfo": {
     "elapsed": 103806,
     "status": "ok",
     "timestamp": 1603379394294,
     "user": {
      "displayName": "Jan Chorowski",
      "photoUrl": "https://lh3.googleusercontent.com/a-/AOh14GiqjVlbW0luD6bn2f_qryOD2Z2a5Wrer8PyDHk9RA=s64",
      "userId": "18100051538790809279"
     },
     "user_tz": -120
    },
    "id": "7QH53--Y9auj",
    "outputId": "a08058be-7973-44d4-8d3b-624094ee290b"
   },
   "outputs": [],
   "source": []
  },
  {
   "cell_type": "code",
   "execution_count": null,
   "metadata": {
    "colab": {
     "base_uri": "https://localhost:8080/",
     "height": 1000
    },
    "executionInfo": {
     "elapsed": 163994,
     "status": "ok",
     "timestamp": 1603379454493,
     "user": {
      "displayName": "Jan Chorowski",
      "photoUrl": "https://lh3.googleusercontent.com/a-/AOh14GiqjVlbW0luD6bn2f_qryOD2Z2a5Wrer8PyDHk9RA=s64",
      "userId": "18100051538790809279"
     },
     "user_tz": -120
    },
    "id": "WWh2t5Jr-yZX",
    "outputId": "17a82275-063d-4646-e663-54a73e309ecf"
   },
   "outputs": [],
   "source": []
  },
  {
   "cell_type": "markdown",
   "metadata": {
    "id": "-UjN0BD39epa"
   },
   "source": [
    "**TODO** Answer below the questions:\n",
    "\n",
    "Would it make sense to normalize the data after feature expansion?\n",
    "\n",
    "Which dataset is easier to fit?\n",
    "\n",
    "When is ridge regression most effective?"
   ]
  },
  {
   "cell_type": "markdown",
   "metadata": {
    "id": "DhUGvZvlk6hU"
   },
   "source": [
    "# Problem 3 [1p + 2bp] Numerical optimization\n",
    "\n",
    "Implement the [Rosenborck function](https://en.wikipedia.org/wiki/Rosenbrock_function). Then find its optimum using the [`scipy.optimize.fmin_l_bfgs_b`](https://docs.scipy.org/doc/scipy/reference/generated/scipy.optimize.fmin_l_bfgs_b.html).\n"
   ]
  },
  {
   "cell_type": "code",
   "execution_count": null,
   "metadata": {
    "id": "nXNY375lmI1e"
   },
   "outputs": [],
   "source": [
    "#\n",
    "# Implement the Rosenbrock function\n",
    "#\n",
    "\n",
    "\n",
    "def rosenbrock_v(x):\n",
    "    \"\"\"Returns the value of Rosenbrock's function at x\"\"\"\n",
    "    return TOOD\n",
    "\n",
    "\n",
    "def rosenbrock(x):\n",
    "    \"\"\"Returns the value of rosenbrock's function and its gradient at x\n",
    "    \"\"\"\n",
    "    val = TODO\n",
    "    # Gradient should be np.array\n",
    "    dVdX= TODO\n",
    "    return [val, dVdX]\n",
    "\n",
    "\n",
    "#\n",
    "# Feel free to add your own test points.\n",
    "#\n",
    "for test_point in [[0.0, 0.0], [1.0, 1.0], [0.5, 1.0], [1.0, 0.5]]:\n",
    "    assert check_gradient(rosenbrock, np.array(test_point), prec=1e-5)"
   ]
  },
  {
   "cell_type": "code",
   "execution_count": null,
   "metadata": {
    "colab": {
     "base_uri": "https://localhost:8080/",
     "height": 286
    },
    "executionInfo": {
     "elapsed": 163986,
     "status": "ok",
     "timestamp": 1603379454499,
     "user": {
      "displayName": "Jan Chorowski",
      "photoUrl": "https://lh3.googleusercontent.com/a-/AOh14GiqjVlbW0luD6bn2f_qryOD2Z2a5Wrer8PyDHk9RA=s64",
      "userId": "18100051538790809279"
     },
     "user_tz": -120
    },
    "id": "oe7hT5FgmfoZ",
    "outputId": "788c6342-9d77-4686-9c20-d2805062eb71"
   },
   "outputs": [],
   "source": [
    "#\n",
    "# Use scipy.optimize.fmin_l_bfgs_b\n",
    "# Make a contour plot of the Rosenbrock function, plot the optimization path\n",
    "# on the coutnour plot\n",
    "#\n",
    "# Hint: to save the points you can use the callback argument!\n",
    "#\n",
    "\n",
    "lbfsg_hist = []\n",
    "\n",
    "\n",
    "def save_hist(x):\n",
    "    lbfsg_hist.append(np.array(x))\n",
    "\n",
    "\n",
    "x_start = [0.0, 2.0]\n",
    "lbfsgb_ret = sopt.fmin_l_bfgs_b(\n",
    "    rosenbrock, x_start, callback=save_hist\n",
    "lbfsgb_ret = sopt.fmin_l_bfgs_b(TODO, TODO, callback=save_hist)\n",
    "\n",
    "# TODO: plot the countours of the function and overlay the optimization trajectory\n"
   ]
  },
  {
   "cell_type": "code",
   "execution_count": null,
   "metadata": {
    "colab": {
     "base_uri": "https://localhost:8080/",
     "height": 898
    },
    "executionInfo": {
     "elapsed": 164591,
     "status": "ok",
     "timestamp": 1603379455114,
     "user": {
      "displayName": "Jan Chorowski",
      "photoUrl": "https://lh3.googleusercontent.com/a-/AOh14GiqjVlbW0luD6bn2f_qryOD2Z2a5Wrer8PyDHk9RA=s64",
      "userId": "18100051538790809279"
     },
     "user_tz": -120
    },
    "id": "qWefLs0Hmzhc",
    "outputId": "e65b94b0-ec37-4f63-94ba-ef505883ddae"
   },
   "outputs": [],
   "source": [
    "#\n",
    "# Bonus problem\n",
    "#\n",
    "\n",
    "# Newton-Raphson Method\n",
    "\n",
    "\n",
    "def rosenbrock_hessian(x):\n",
    "    # TODO: compute the value, gradient and Hessian of Rosenbrock's function'\n",
    "        return [val, np.array((dvdx0, dvdx1)), H]\n",
    "\n",
    "\n",
    "def Newton(f, Theta0, alpha, stop_tolerance=1e-10, max_steps=1000000):\n",
    "\n",
    "    # TODO:\n",
    "    #  - implement the newton method and a simple line search\n",
    "    #  - make sure your function is resilient at critical points (such as seddle points)\n",
    "    #  - if the Newton direction is not minimizing the function, use the gradient for a few steps\n",
    "    #  - try to beat L-BFGS on the bmber of function evaluations needed!\n",
    "\n",
    "        return Theta, history, fun_evals\n",
    "\n",
    "\n",
    "Xopt, Xhist, fun_evals = Newton(\n",
    "    rosenbrock_hessian, x_start, alpha=1e-0, stop_tolerance=1e-10, max_steps=1e6\n",
    ")\n",
    "Xhist_ = np.array([[x[0][0], x[0][1]] for x in Xhist])\n",
    "\n",
    "print(\n",
    "    \"Found optimum at %s in %d steps (%d function evals)(true minimum is at [1,1])\"\n",
    "    % (Xopt, len(Xhist), fun_evals)\n",
    ")\n",
    "\n",
    "MX, MY = np.meshgrid(np.linspace(-1, 2, 100), np.linspace(-1, 2, 100))\n",
    "Z = np.array([MX, MY]).reshape(2, -1)\n",
    "VR = rosenbrock_v(Z)\n",
    "plt.contour(MX, MY, VR.reshape(MX.shape), 100)\n",
    "plt.plot(Xhist_[:, 0], Xhist_[:, 1], \"*-k\")"
   ]
  },
  {
   "cell_type": "markdown",
   "metadata": {
    "id": "YhEQD6LVrAbB"
   },
   "source": [
    "# Problem 4 (Logistic Regression) [2p]\n",
    "\n",
    "Linear regression is suitable for problems, where\n",
    "the forecasted values are real numbers. We use logistic regression,\n",
    "when we want to label the data with $0$ and $1$.\n",
    "\n",
    "Let $x\\in \\mathbb{R}^n$ be a row vector of $n$ real numbers, and\n",
    "$y\\in \\{0,1\\}$ the given class label. Similarly to what was shown\n",
    "during the lecture, we add an additional element $x_0=1$\n",
    "to vector $x$, to account for the bias term (and simplify the equations).\n",
    "\n",
    "Similarly to linear regression, vector\n",
    "$\\Theta\\in \\mathbb{R}^{n+1}$ parametrizes the model\n",
    "($n$ coefficients describes the data, the remaining one is the intercept).\n",
    "In logistic regression, we model conditional probability that\n",
    "sample $x$ belongs to class $1$ as:\n",
    "\n",
    "\\begin{equation}\n",
    "p(\\text{class}=1|x, \\Theta)=h_\\Theta(x) = \\sigma\\left(\\sum_{j=0}^n  x_j\\Theta_j\\right) \n",
    "= \\sigma\\left(x\\Theta \\right),\n",
    "\\end{equation}\n",
    "\n",
    "where $\\sigma(a) = \\frac{1}{1+\\exp(-a)}$ is being called the logistic sigmoid\n",
    "(a function, which plot is s-curved).\n",
    "\n",
    "An unknown sample $x$ is being labeled $1$ if\n",
    "$h_\\Theta(x)\\geq 0.5$, or equivalently, $x\\Theta \\geq 0$.\n",
    "\n",
    "Classification mismatch between the forecasted values and\n",
    "the data is being measured most of the time with cross-entropy:\n",
    "\n",
    "\\begin{equation}\n",
    "    J(\\Theta) = - \\sum_{i=1}^m y^{(i)} \\log \\left(h_\\Theta (x^{(i)})\\right) + (1-y^{(i)}) \\log \\left(1-h_\\Theta (x^{(i)})\\right),\n",
    "\\end{equation}\n",
    "\n",
    "assuming $0\\log(0)=0$.\n"
   ]
  },
  {
   "cell_type": "markdown",
   "metadata": {
    "id": "3adbOOZQwfRX"
   },
   "source": [
    "## Task 4.1 [1p]\n",
    "Use logistic regression to distinguish\n",
    "  _Versicolor_ and _Virginica_ irises. Use only the\n",
    "  `petal length` and `petal width` features. Use either\n",
    "  Gradient Descent, or L-BFGS to solve for the optimal $\\Theta$.\n",
    "  Prepare the scatterplot of the data and plot the class separation\n",
    "  boundary found by logistic regression."
   ]
  },
  {
   "cell_type": "markdown",
   "metadata": {
    "id": "iVX3t6huvLYN"
   },
   "source": [
    "## Task 4.2 [1p]\n",
    "\n",
    "In an analogy to Ridge Regression, implement a penalty on the weights of logistic regression. \n",
    "\n",
    "Then make a contour plot of the probability assigned by the model with no regularization $\\alpha=0$ and with regularization, e.g. $\\alpha=10^-2$ and $\\alpha=1$. Describe what has changed?"
   ]
  },
  {
   "cell_type": "markdown",
   "metadata": {
    "id": "gTgxDfWOxHTa"
   },
   "source": [
    "## Task 4.1 solution"
   ]
  },
  {
   "cell_type": "code",
   "execution_count": null,
   "metadata": {
    "colab": {
     "base_uri": "https://localhost:8080/",
     "height": 54
    },
    "executionInfo": {
     "elapsed": 1857,
     "status": "ok",
     "timestamp": 1603388645508,
     "user": {
      "displayName": "Michał Stypułkowski",
      "photoUrl": "",
      "userId": "08499681120788190249"
     },
     "user_tz": -120
    },
    "id": "hyCHThWMq8po",
    "outputId": "37abdeb5-f730-4412-b1c4-7055fcbae89d"
   },
   "outputs": [],
   "source": [
    "iris = datasets.load_iris()\n",
    "print(\"Features: \", iris.feature_names)\n",
    "print(\"Targets: \", iris.target_names)\n",
    "petal_length = iris.data[:, iris.feature_names.index(\"petal length (cm)\")].reshape(-1, 1)\n",
    "petal_width = iris.data[:, iris.feature_names.index(\"petal width (cm)\")].reshape(-1, 1)"
   ]
  },
  {
   "cell_type": "code",
   "execution_count": null,
   "metadata": {
    "colab": {
     "base_uri": "https://localhost:8080/",
     "height": 298
    },
    "executionInfo": {
     "elapsed": 2521,
     "status": "ok",
     "timestamp": 1603388648425,
     "user": {
      "displayName": "Michał Stypułkowski",
      "photoUrl": "",
      "userId": "08499681120788190249"
     },
     "user_tz": -120
    },
    "id": "cJo8EKkxrDec",
    "outputId": "b85c9976-db78-4a3f-db47-a75acb51a434"
   },
   "outputs": [],
   "source": [
    "# Extract the petal_length and petal_width of versicolors and virginicas\n",
    "\n",
    "IrisX = np.hstack([np.ones_like(petal_length), petal_length, petal_width])\n",
    "IrisX = IrisX[iris.target != 0, :]\n",
    "\n",
    "# Set versicolor=0 and virginia=1\n",
    "IrisY = (iris.target[iris.target != 0] - 1).reshape(-1, 1).astype(np.float64)\n",
    "\n",
    "plt.scatter(IrisX[:, 1], IrisX[:, 2], c=IrisY, cmap=\"spring\")\n",
    "plt.xlabel(\"petal_length\")\n",
    "plt.ylabel(\"petal_width\")"
   ]
  },
  {
   "cell_type": "code",
   "execution_count": null,
   "metadata": {
    "colab": {
     "base_uri": "https://localhost:8080/",
     "height": 298
    },
    "executionInfo": {
     "elapsed": 1331,
     "status": "ok",
     "timestamp": 1603388651478,
     "user": {
      "displayName": "Michał Stypułkowski",
      "photoUrl": "",
      "userId": "08499681120788190249"
     },
     "user_tz": -120
    },
    "id": "lg6jTAsxrQrU",
    "outputId": "ecb22311-64da-4f3c-e012-a5b9d265538b"
   },
   "outputs": [],
   "source": [
    "def logreg_loss(Theta, X, Y):\n",
    "    #\n",
    "    # Write a logistic regression cost suitable for use with fmin_l_bfgs\n",
    "    #\n",
    "\n",
    "    # reshape Theta into a column vector - lBFGS gives us a flat array\n",
    "    ThetaR = Theta.reshape(X.shape[1], 1)\n",
    "\n",
    "    nll = TODO\n",
    "    grad = TODO\n",
    "\n",
    "    # reshape grad into the shape of Theta, for fmin_l_bfsgb to work\n",
    "    return nll, grad.reshape(Theta.shape)\n",
    "\n",
    "\n",
    "Theta0 = np.zeros((3, ))\n",
    "\n",
    "#\n",
    "# Call a solver\n",
    "#\n",
    "ThetaOpt = sopt.fmin_l_bfgs_b(\n",
    "    lambda Theta: logreg_loss(Theta, IrisX, IrisY), np.array(Theta0)\n",
    ")[0]\n",
    "\n",
    "\n",
    "#\n",
    "# Now plot the found separation line\n",
    "#\n",
    "\n",
    "plt.scatter(IrisX[:, 1], IrisX[:, 2], c=IrisY.ravel(), cmap=\"spring\")\n",
    "plt.xlabel(\"petal_length\")\n",
    "plt.ylabel(\"petal_width\")\n",
    "pl_min, pl_max = plt.xlim()\n",
    "pl = np.linspace(pl_min, pl_max, 1000)\n",
    "plt.plot(pl, -(ThetaOpt[0] + ThetaOpt[1] * pl) / ThetaOpt[2])\n",
    "plt.xlim(pl_min, pl_max)"
   ]
  },
  {
   "cell_type": "markdown",
   "metadata": {
    "id": "h5tShF4KxNzS"
   },
   "source": [
    "## Task 4.2 solution"
   ]
  },
  {
   "cell_type": "code",
   "execution_count": null,
   "metadata": {
    "colab": {
     "base_uri": "https://localhost:8080/",
     "height": 854
    },
    "executionInfo": {
     "elapsed": 2062,
     "status": "ok",
     "timestamp": 1603393880694,
     "user": {
      "displayName": "Jan Chorowski",
      "photoUrl": "https://lh3.googleusercontent.com/a-/AOh14GiqjVlbW0luD6bn2f_qryOD2Z2a5Wrer8PyDHk9RA=s64",
      "userId": "18100051538790809279"
     },
     "user_tz": -120
    },
    "id": "Qm3nPsVXxQMV",
    "outputId": "4ac84b5a-c2a1-4d3d-e453-746d1695ec91"
   },
   "outputs": [],
   "source": [
    "# Change logistic regression to include a weight penalty term as in ridge regression\n",
    "# Then plot the probabilities for different values of alpha\n",
    "# Hint: use the contour plot code from Assignent 1\n",
    "alphas = [0, 1e-2, 1.0]\n",
    "\n",
    "\n",
    "def logreg_loss_with_reg(Theta, X, Y, alpha=0.):\n",
    "    #\n",
    "    # Copy the logistic regression code and extend it with L2 regularization\n",
    "    #\n",
    "    TODO\n",
    "\n",
    "\n",
    "mesh_x, mesh_y = np.meshgrid(\n",
    "    np.linspace(IrisX[:, 1].min(), IrisX[:, 1].max(), 100),\n",
    "    np.linspace(IrisX[:, 2].min(), IrisX[:, 2].max(), 100),\n",
    ")\n",
    "mesh_data = np.hstack([np.ones(mesh_x.reshape(-1, 1).shape), mesh_x.reshape(-1, 1), mesh_y.reshape(-1, 1)])\n",
    "\n",
    "for alpha in alphas:\n",
    "  Theta0 = np.zeros((3, ))\n",
    "\n",
    "  #\n",
    "  # Call a solver\n",
    "  #\n",
    "  ThetaOpt, _, dic = sopt.fmin_l_bfgs_b(\n",
    "      lambda Theta: logreg_loss_with_reg(Theta, IrisX, IrisY, alpha=alpha), np.array(Theta0)\n",
    "  )\n",
    "  n_iter.append(dic['nit'])\n",
    "\n",
    "  #\n",
    "  # Now calculate probabilities for mesh_data\n",
    "  #\n",
    "  probs = TODO\n",
    "\n",
    "  #\n",
    "  # Plot the decision boundary\n",
    "  #\n",
    "  plt.contourf(mesh_x, mesh_y, probs.reshape(mesh_x.shape), cmap='spring')\n",
    "  plt.scatter(IrisX[:, 1], IrisX[:, 2], c=IrisY.ravel(), cmap=\"spring\", linewidths=1, edgecolors='black')\n",
    "  plt.colorbar()\n",
    "  plt.xlabel(\"petal_length\")\n",
    "  plt.ylabel(\"petal_width\")\n",
    "  pl_min, pl_max = plt.xlim()\n",
    "  plt.title(fr'$\\alpha$ = {alpha:.2e}')\n",
    "  plt.xlim(pl_min, pl_max)\n",
    "  plt.show()"
   ]
  },
  {
   "cell_type": "markdown",
   "metadata": {
    "id": "4rllhm5z2KXm"
   },
   "source": [
    "**TODO**: type here what has change with the change of $\\alpha$."
   ]
  },
  {
   "cell_type": "markdown",
   "metadata": {
    "id": "f-U4Dz-NtdBj"
   },
   "source": [
    "# Problem 5 (Quantile Regression) [4p]\n",
    "\n",
    "  The least squares method results in estimates that approximate\n",
    "  the conditional mean of the response variable given certain values\n",
    "  of the predictor variables.  However, for many applications we are interested\n",
    "  in a median or other percentile rather than the mean of the response\n",
    "  variable. An approximation of a percentile can be achieved\n",
    "  indirectly by using the least squares method to fit a model,\n",
    "  assuming a gaussian distribution on residuals of this model and\n",
    "  calculating the required percentile of the gaussian distribution.\n",
    "  The problems with this commonly used technique appear when the\n",
    "  distribution of residuals does not follow a gaussian distribution.\n",
    "\n",
    "  The quantile regression\n",
    "  (https://en.wikipedia.org/wiki/Quantile_regression) aims at\n",
    "  directly estimating a value of the conditional percentile of the\n",
    "  response variable. It is often use in e.g. sales forecasting, where\n",
    "  we are interested in e.g. keeping enough items to have a 90% chance\n",
    "  to cover the demand. In quantile regression, instead of minimizing the mean squared error,\n",
    "  quantile regression minimizes a different cost function namely:\n",
    "  \\begin{equation}\n",
    "  f_{\\tau} = \\left\\{\n",
    "    \\begin{array}{rl}\n",
    "      \\tau\\cdot x & \\text{if } x \\geq 0,\\\\\n",
    "      -(1-\\tau)\\cdot x & \\text{if } x < 0,\n",
    "    \\end{array} \\right.\n",
    "  \\end{equation}\n",
    "  where $\\tau$ is the precentile of interest.\n",
    "\n",
    "\n",
    "Download the house pricing data set from\n",
    "    https://raw.githubusercontent.com/janchorowski/nn_assignments/nn18/assignment3/03-house-prices-outliers.csv. To\n",
    "    load it into Python, you can use the `pandas.read_csv`\n",
    "    function.\n",
    "\n",
    "    This data contains information about areas and prices of around\n",
    "    5000 houses offered for sale. Imagine you want to buy a 60 squared\n",
    "    meters flat. How much money do you need to have to be able to\n",
    "    choose between $75\\%$ of all flats offered for sale?\n",
    "\n",
    "1. **[1p]** Fit a linear regression model to the relation of a house price\n",
    "    on its area using the least squares method. Plot a historgram of the\n",
    "    residuals. Fit a Gaussian distribution to the residuals and overlay\n",
    "    it on the histogram. Calculate the 75 percentile of\n",
    "    this distribution (you can look it up in a percentile table, or\n",
    "    use the `scipy.stats.norm.ppf` function). Check the goodness of fit\n",
    "    of your model by calculating the ratio of prices below the\n",
    "    estimated 75 percentile. \n",
    "\n",
    "    How many samples are within the confidence interval? Is it too large or too small?\n",
    "\n",
    "2. **[1p]** Locate the outlying points and remove them from the dataset. Again check if the residuals look gaussian, and compute the 75th percentile.\n",
    "\n",
    "3. **[1.5p]** Fit a quantile regression model to fill data by minimizing the $f_{\\tau}$\n",
    "    function. To fit the model write a function returning the cost,\n",
    "    and its derivative (you can assume that the derivative is 0 at the\n",
    "    singular points) suitable for use with the L-BFGS solver. You\n",
    "    can start the solver from the least squares solution. Check the\n",
    "    goodness of fit as described above.\n",
    "\n",
    "    Now you can calculate the 75 percentile price value for a 60\n",
    "    squared meters flat using the more adequate model. \n",
    "\n",
    "4. **[0.5p]** Again, remove the outlying points and refit quantile regression. How much did the solution change? Why?\n",
    "    \n",
    "**Note**: Technically, we can not use a gradient-based\n",
    "    optimization method to minimize the $f_{\\tau}$ loss because it\n",
    "    doesn't have a derivative at $x=0$. One solution is to use a\n",
    "    subgradient method\n",
    "    https://en.wikipedia.org/wiki/Subderivative. It is also\n",
    "    possible to use a smooth loss function -- common variants are the\n",
    "    Huber loss (https://en.wikipedia.org/wiki/Huber_loss) or a\n",
    "    variant of the smooth approximation to the absolute value\n",
    "    $\\text{abs}(x) \\approx \\sqrt{x^2+\\epsilon}$ with a small\n",
    "    $\\epsilon$. However, just ignoring the singular points tends to\n",
    "    work well in practice.\n"
   ]
  },
  {
   "cell_type": "code",
   "execution_count": null,
   "metadata": {
    "colab": {
     "base_uri": "https://localhost:8080/",
     "height": 204
    },
    "executionInfo": {
     "elapsed": 170357,
     "status": "ok",
     "timestamp": 1603379460945,
     "user": {
      "displayName": "Jan Chorowski",
      "photoUrl": "https://lh3.googleusercontent.com/a-/AOh14GiqjVlbW0luD6bn2f_qryOD2Z2a5Wrer8PyDHk9RA=s64",
      "userId": "18100051538790809279"
     },
     "user_tz": -120
    },
    "id": "FTUb21Entja7",
    "outputId": "0a7796c4-494e-4618-b25e-9d302f06d1a4"
   },
   "outputs": [],
   "source": [
    "data = pd.read_csv(\n",
    "    \"https://raw.githubusercontent.com/janchorowski/nn_assignments/nn18/assignment3/03-house-prices-outliers.csv\",\n",
    "    index_col=0,\n",
    ")\n",
    "data.head()"
   ]
  },
  {
   "cell_type": "code",
   "execution_count": null,
   "metadata": {
    "colab": {
     "base_uri": "https://localhost:8080/",
     "height": 136
    },
    "executionInfo": {
     "elapsed": 170347,
     "status": "ok",
     "timestamp": 1603379460946,
     "user": {
      "displayName": "Jan Chorowski",
      "photoUrl": "https://lh3.googleusercontent.com/a-/AOh14GiqjVlbW0luD6bn2f_qryOD2Z2a5Wrer8PyDHk9RA=s64",
      "userId": "18100051538790809279"
     },
     "user_tz": -120
    },
    "id": "Ty2H2H3_uqro",
    "outputId": "9ced5a44-203b-4fcb-d48c-9a26c65e5c62"
   },
   "outputs": [],
   "source": [
    "X = np.stack((np.ones_like(data.area), data.area)).T\n",
    "X"
   ]
  },
  {
   "cell_type": "code",
   "execution_count": null,
   "metadata": {
    "colab": {
     "base_uri": "https://localhost:8080/",
     "height": 136
    },
    "executionInfo": {
     "elapsed": 170339,
     "status": "ok",
     "timestamp": 1603379460948,
     "user": {
      "displayName": "Jan Chorowski",
      "photoUrl": "https://lh3.googleusercontent.com/a-/AOh14GiqjVlbW0luD6bn2f_qryOD2Z2a5Wrer8PyDHk9RA=s64",
      "userId": "18100051538790809279"
     },
     "user_tz": -120
    },
    "id": "5jEoxXb4vWmY",
    "outputId": "e15f8f78-d1e4-4f4e-c2a7-3161f2f286f6"
   },
   "outputs": [],
   "source": [
    "Y = np.asarray(data.price)[:, None]\n",
    "Y"
   ]
  },
  {
   "cell_type": "code",
   "execution_count": null,
   "metadata": {
    "colab": {
     "base_uri": "https://localhost:8080/",
     "height": 85
    },
    "executionInfo": {
     "elapsed": 170329,
     "status": "ok",
     "timestamp": 1603379460950,
     "user": {
      "displayName": "Jan Chorowski",
      "photoUrl": "https://lh3.googleusercontent.com/a-/AOh14GiqjVlbW0luD6bn2f_qryOD2Z2a5Wrer8PyDHk9RA=s64",
      "userId": "18100051538790809279"
     },
     "user_tz": -120
    },
    "id": "XzVW0hnQoTSm",
    "outputId": "daf20fa3-9911-4771-f6c1-065ca73e432c"
   },
   "outputs": [],
   "source": []
  },
  {
   "cell_type": "code",
   "execution_count": null,
   "metadata": {
    "colab": {
     "base_uri": "https://localhost:8080/",
     "height": 85
    },
    "executionInfo": {
     "elapsed": 170319,
     "status": "ok",
     "timestamp": 1603379460951,
     "user": {
      "displayName": "Jan Chorowski",
      "photoUrl": "https://lh3.googleusercontent.com/a-/AOh14GiqjVlbW0luD6bn2f_qryOD2Z2a5Wrer8PyDHk9RA=s64",
      "userId": "18100051538790809279"
     },
     "user_tz": -120
    },
    "id": "_CZcEHftoUmk",
    "outputId": "87e70561-5b75-4523-bbfd-51cc0bebe71d"
   },
   "outputs": [],
   "source": []
  },
  {
   "cell_type": "code",
   "execution_count": null,
   "metadata": {
    "colab": {
     "base_uri": "https://localhost:8080/",
     "height": 439
    },
    "executionInfo": {
     "elapsed": 171258,
     "status": "ok",
     "timestamp": 1603379461900,
     "user": {
      "displayName": "Jan Chorowski",
      "photoUrl": "https://lh3.googleusercontent.com/a-/AOh14GiqjVlbW0luD6bn2f_qryOD2Z2a5Wrer8PyDHk9RA=s64",
      "userId": "18100051538790809279"
     },
     "user_tz": -120
    },
    "id": "QE5v_9j9v4TW",
    "outputId": "aa8ea703-e457-4eb1-a7c5-cc0ed837bb50"
   },
   "outputs": [],
   "source": []
  },
  {
   "cell_type": "markdown",
   "metadata": {
    "id": "AydiBTOZnw1V"
   },
   "source": [
    "# Problem 6 [1-4bp]\n",
    "\n",
    "Apply the [General Robust loss function](https://arxiv.org/abs/1701.03077) to the data from problem 5.\n",
    "\n",
    "Grading: you will get one bonus point for implementing the loss without the prior and trying a few values of $\\alpha$. Comparing and using  the provided implementation can give you another bonus point. Your own implementation of the adaptative variant gives 4 points."
   ]
  },
  {
   "cell_type": "code",
   "execution_count": null,
   "metadata": {
    "id": "1spEGdtSuQdj"
   },
   "outputs": [],
   "source": []
  }
 ],
 "metadata": {
  "colab": {
   "collapsed_sections": [],
   "name": "Assignment2_solutions.ipynb",
   "provenance": [],
   "toc_visible": true
  },
  "kernelspec": {
   "display_name": "Python 3",
   "language": "python",
   "name": "python3"
  },
  "language_info": {
   "codemirror_mode": {
    "name": "ipython",
    "version": 3
   },
   "file_extension": ".py",
   "mimetype": "text/x-python",
   "name": "python",
   "nbconvert_exporter": "python",
   "pygments_lexer": "ipython3",
   "version": "3.8.3"
  },
  "toc-autonumbering": false,
  "toc-showcode": false,
  "toc-showmarkdowntxt": false
 },
 "nbformat": 4,
 "nbformat_minor": 1
}
